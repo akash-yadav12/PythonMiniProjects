{
 "cells": [
  {
   "cell_type": "code",
   "execution_count": 1,
   "metadata": {},
   "outputs": [],
   "source": [
    "import numpy as np\n",
    "import pandas as pd\n",
    "import plotly as pl\n",
    "import plotly.offline as po\n",
    "import cufflinks as cf\n",
    "%matplotlib inline"
   ]
  },
  {
   "cell_type": "code",
   "execution_count": 2,
   "metadata": {},
   "outputs": [
    {
     "data": {
      "text/html": [
       "        <script type=\"text/javascript\">\n",
       "        window.PlotlyConfig = {MathJaxConfig: 'local'};\n",
       "        if (window.MathJax) {MathJax.Hub.Config({SVG: {font: \"STIX-Web\"}});}\n",
       "        if (typeof require !== 'undefined') {\n",
       "        require.undef(\"plotly\");\n",
       "        requirejs.config({\n",
       "            paths: {\n",
       "                'plotly': ['https://cdn.plot.ly/plotly-latest.min']\n",
       "            }\n",
       "        });\n",
       "        require(['plotly'], function(Plotly) {\n",
       "            window._Plotly = Plotly;\n",
       "        });\n",
       "        }\n",
       "        </script>\n",
       "        "
      ]
     },
     "metadata": {},
     "output_type": "display_data"
    },
    {
     "data": {
      "text/html": [
       "        <script type=\"text/javascript\">\n",
       "        window.PlotlyConfig = {MathJaxConfig: 'local'};\n",
       "        if (window.MathJax) {MathJax.Hub.Config({SVG: {font: \"STIX-Web\"}});}\n",
       "        if (typeof require !== 'undefined') {\n",
       "        require.undef(\"plotly\");\n",
       "        requirejs.config({\n",
       "            paths: {\n",
       "                'plotly': ['https://cdn.plot.ly/plotly-latest.min']\n",
       "            }\n",
       "        });\n",
       "        require(['plotly'], function(Plotly) {\n",
       "            window._Plotly = Plotly;\n",
       "        });\n",
       "        }\n",
       "        </script>\n",
       "        "
      ]
     },
     "metadata": {},
     "output_type": "display_data"
    }
   ],
   "source": [
    "po.init_notebook_mode(connected = True)\n",
    "cf.go_offline()"
   ]
  },
  {
   "cell_type": "code",
   "execution_count": 3,
   "metadata": {},
   "outputs": [],
   "source": [
    "def createData(data):\n",
    "    if data == 1:\n",
    "        x = np.random.rand(100,5)\n",
    "        df1 = pd.DataFrame(x,columns=['A','B','C','D','E'])\n",
    "    elif data == 2:\n",
    "        col = []\n",
    "        print('Enter the values of columns')\n",
    "        for i in range(5):\n",
    "            col.append(input())\n",
    "        print('Enter the values for first row')\n",
    "        r1 = []\n",
    "        for i in range(5):\n",
    "            r1.append(int(input()))\n",
    "        print('Enter the values for second row')\n",
    "        r2 = []\n",
    "        for i in range(5):\n",
    "            r2.append(int(input()))\n",
    "        print('Enter the values for third row')\n",
    "        r3 = []\n",
    "        for i in range(5):\n",
    "            r3.append(int(input()))\n",
    "        print('Enter the values for fourth row')\n",
    "        r4 = []\n",
    "        for i in range(5):\n",
    "            r4.append(int(input()))\n",
    "        df1 = pd.DataFrame([r1,r2,r3,r4],columns = col)\n",
    "    elif data == 3:\n",
    "        file = input('enter the file name')\n",
    "        x = pd.read_csv(file)\n",
    "        df1 = pd.DataFrame(x)\n",
    "    else:\n",
    "        print('DataFrame creation failed, please enter appropriate option')\n",
    "    return df1"
   ]
  },
  {
   "cell_type": "code",
   "execution_count": 4,
   "metadata": {},
   "outputs": [],
   "source": [
    "def plotter(plot):\n",
    "    print('inside plotter')\n",
    "    df1.head()\n",
    "    if plot == 1:\n",
    "        finalplot = df1.iplot(kind=\"scatter\")\n",
    "    \n",
    "    elif plot == 2:\n",
    "        finalplot = df1.iplot(kind=\"scatter\",mode=\"markers\",symbol = \"x\", colorscale=\"paired\")\n",
    "    elif plot == 3:\n",
    "        finalplot = df1.iplot(kind=\"bar\")\n",
    "    elif plot == 4:\n",
    "        finalplot = df1.iplot(kind=\"hist\")\n",
    "    elif plot == 5:\n",
    "        finalplot = df1.iplot(kind=\"box\")\n",
    "    elif plot == 6:\n",
    "        finalplot = df1.iplot(kind=\"surface\")\n",
    "    else:\n",
    "        finalplot = print('Select only the between 1 to 7')\n",
    "    return finalplot\n",
    "    "
   ]
  },
  {
   "cell_type": "code",
   "execution_count": 5,
   "metadata": {},
   "outputs": [],
   "source": [
    "def plotter2(plot):\n",
    "    col = int(input('enter the number of columns you want to plot from 1,2 or 3 only'))\n",
    "    if col == 1:\n",
    "        colm = input('Enter the column the you want to plot by seleting any column from dataframe head')\n",
    "        if plot == 1:\n",
    "            finalplot = df1[colm].iplot(kind='scatter')\n",
    "        elif plot == 2:\n",
    "            finalplot = df1[colm].iplot(kind='scatter', mode='markers', colorscale='paired', symbol='x')\n",
    "        elif plot == 3:\n",
    "            finalplot = df1[colm].iplot(kind='bar')\n",
    "        elif plot == 4:\n",
    "            finalplot = df1[colm].iplot(kind='hist')\n",
    "        elif plot == 5:\n",
    "            finalplot = df1[colm].iplot(kind='box')\n",
    "        elif plot == 6 or plot == 7:\n",
    "            finalplot = print('Bubble plot and surface plot requires more than one column')\n",
    "        else:\n",
    "            finalplot = print('Select only between 1 to 7')\n",
    "            \n",
    "            \n",
    "            \n",
    "            \n",
    "            \n",
    "    elif col == 2:\n",
    "        print('enter columns you want to plot by selection from dataframe head')\n",
    "        x = input('First column')\n",
    "        y = input('Second column')\n",
    "        if plot == 1:\n",
    "            finalplot = df1[[x,y]].iplot(kind='scatter')\n",
    "        elif plot == 2:\n",
    "            finalplot = df1[[x,y]].iplot(kind='scatter', mode='markers', colorscale='paired', symbol='x')\n",
    "        elif plot == 3:\n",
    "            finalplot = df1[[x,y]].iplot(kind='bar')\n",
    "        elif plot == 4:\n",
    "            finalplot = df1[[x,y]].iplot(kind='hist')\n",
    "        elif plot == 5:\n",
    "            finalplot = df1[[x,y]].iplot(kind='box')\n",
    "        elif plot == 6:\n",
    "            finalplot = df1[[x,y]].iplot(kind = 'surface')\n",
    "        elif plot == 7:\n",
    "            size = input('please enter the size columns for bubble plot')\n",
    "            finalplot = df1.iplot(kind='bubble',x =x , y = y, size=size)\n",
    "            \n",
    "        else:\n",
    "            finalplot = print('Select only between 1 to 7')\n",
    "        \n",
    "        \n",
    "        \n",
    "    elif col == 3:\n",
    "        print('enter columns you want to plot by selection from dataframe head')\n",
    "        x = input('First column')\n",
    "        y = input('Second column')\n",
    "        z = input('Third column')\n",
    "        if plot == 1:\n",
    "            finalplot = df1[[x,y,z]].iplot(kind='scatter')\n",
    "        elif plot == 2:\n",
    "            finalplot = df1[[x,y,z]].iplot(kind='scatter', mode='markers', colorscale='paired', symbol='x')\n",
    "        elif plot == 3:\n",
    "            finalplot = df1[[x,y,z]].iplot(kind='bar')\n",
    "        elif plot == 4:\n",
    "            finalplot = df1[[x,y,z]].iplot(kind='hist')\n",
    "        elif plot == 5:\n",
    "            finalplot = df1[[x,y,z]].iplot(kind='box')\n",
    "        elif plot == 6:\n",
    "            finalplot = df1[[x,y,z]].iplot(kind = 'surface')\n",
    "        elif plot == 7:\n",
    "            size = input('please enter the size columns for bubble plot')\n",
    "            finalplot = df1.iplot(kind='bubble',x =x , y = y,z=z, size=size) \n",
    "        else:\n",
    "            finalplot = print('Select only between 1 to 7')\n",
    "    else:\n",
    "        finalplot = print('please enter 1, 2 or 3')\n",
    "        \n",
    "    return finalplot\n",
    "    "
   ]
  },
  {
   "cell_type": "code",
   "execution_count": 18,
   "metadata": {},
   "outputs": [
    {
     "data": {
      "application/vnd.plotly.v1+json": {
       "config": {
        "linkText": "Export to plot.ly",
        "plotlyServerURL": "https://plot.ly",
        "showLink": true
       },
       "data": [
        {
         "marker": {
          "color": [
           "rgb(255, 153, 51)",
           "rgb(55, 128, 191)",
           "rgb(50, 171, 96)",
           "rgb(128, 0, 128)",
           "rgb(219, 64, 82)",
           "rgb(0, 128, 128)",
           "rgb(255, 255, 51)",
           "rgb(128, 128, 0)",
           "rgb(251, 128, 114)",
           "rgb(128, 177, 211)"
          ],
          "line": {
           "width": 1.3
          },
          "size": [
           63,
           17,
           17,
           111,
           77,
           53,
           93,
           58,
           63,
           91,
           59,
           64,
           64,
           36,
           55,
           76,
           54,
           47,
           48,
           53,
           39,
           111,
           77,
           63,
           76,
           43,
           93,
           22,
           20,
           19,
           33,
           42,
           59,
           35,
           60,
           83,
           88,
           55,
           77,
           34,
           96,
           55,
           101,
           60,
           93,
           79,
           77,
           64,
           98,
           35,
           32,
           96,
           22,
           68,
           12,
           87,
           31,
           68,
           88,
           30,
           64,
           46,
           37,
           25,
           51,
           97,
           58,
           47,
           18,
           48,
           109,
           42,
           74,
           44,
           28,
           87,
           68,
           45,
           110,
           26,
           95,
           54,
           47,
           48,
           44,
           98,
           73,
           83,
           51,
           93,
           112,
           93,
           27,
           48,
           103,
           75,
           72,
           107,
           28,
           73
          ],
          "symbol": "circle"
         },
         "mode": "markers",
         "text": "",
         "type": "scatter",
         "x": [
          0.5161356738434313,
          0.0636107172821545,
          0.06692468327697487,
          0.9936523799556392,
          0.6566634561023436,
          0.42178757090817,
          0.8086668424476373,
          0.46696917334465715,
          0.5129833029626683,
          0.7965445970407374,
          0.4753749507544248,
          0.5269736078845279,
          0.5261516285530587,
          0.2519265446908109,
          0.4409403818728914,
          0.6436230214509598,
          0.4309093924813908,
          0.36422533023935955,
          0.37066206102894694,
          0.421097496189345,
          0.28259186083790744,
          0.9860137044665604,
          0.6570764348350261,
          0.5166094344991606,
          0.6490393566705923,
          0.32147053343054677,
          0.8102657376578001,
          0.11050398446241882,
          0.09627265273347896,
          0.08700454560238846,
          0.2258316558306792,
          0.31348122143129686,
          0.47630388580856076,
          0.2416633552291907,
          0.48321421471361015,
          0.7171602823913971,
          0.7592514927105863,
          0.4348145067399688,
          0.6519254878064837,
          0.23562240464892648,
          0.8389761449853061,
          0.4357828113180149,
          0.8904555215195848,
          0.49243300170191573,
          0.8125110982330637,
          0.6714552805304276,
          0.6510067444371548,
          0.5224405141670765,
          0.857616039374965,
          0.2437485124094424,
          0.2113978782820376,
          0.8406689495585936,
          0.1165529358447096,
          0.5641530680696066,
          0.010510175356872153,
          0.7577676348585756,
          0.20644660956327343,
          0.5700530742980291,
          0.7642106969260165,
          0.19353335786692716,
          0.5284422576689375,
          0.3498861904340155,
          0.2630774011604906,
          0.1449589465426755,
          0.39568914806906685,
          0.8557987067043253,
          0.47129635663487623,
          0.3637625307528811,
          0.07046086278636066,
          0.36667011649451775,
          0.9727843650178455,
          0.3139598540426143,
          0.622712814828662,
          0.32947199664912585,
          0.17377303327816296,
          0.7546133445087303,
          0.5663910992263943,
          0.3451425503884008,
          0.9783478970261547,
          0.14840065449695494,
          0.8330401629681037,
          0.43072035332893666,
          0.3562461079945607,
          0.37194417031475535,
          0.3335999569792627,
          0.8610725848155363,
          0.6125310343312728,
          0.7186038061722813,
          0.3953632872574543,
          0.8166573564125706,
          0.9947489097716217,
          0.8158534215005634,
          0.16639429322302368,
          0.36876198445450137,
          0.9127319952710993,
          0.6373487118009706,
          0.606332930143361,
          0.9472345915619095,
          0.17739635382255026,
          0.6191072827347411
         ],
         "y": [
          0.1626630672686057,
          0.1306959975074532,
          0.1175181958536533,
          0.7318519873454005,
          0.3663728136314005,
          0.4330131365004678,
          0.10459868937732109,
          0.17312021455354665,
          0.7424581685221942,
          0.4024914311648409,
          0.4225386494007666,
          0.9652479008886558,
          0.1568640422480947,
          0.1906932468310829,
          0.4049553890224278,
          0.1413534741045852,
          0.7974769973635923,
          0.5122880874743644,
          0.7114364673859719,
          0.6545414468956188,
          0.003122663919889135,
          0.574600020728585,
          0.7257651956732694,
          0.7860220269480087,
          0.21705297012680558,
          0.9882332588912093,
          0.9280064780725784,
          0.6371133177573292,
          0.04056129947369258,
          0.6566599409325782,
          0.8611208629693048,
          0.36042953255577626,
          0.5570817877393824,
          0.2431539210116398,
          0.6223154456584389,
          0.2727771215522843,
          0.017564377190018243,
          0.31909216846520805,
          0.6923659421446094,
          0.10781850344782229,
          0.8426556752018141,
          0.9889373235577419,
          0.937828210395217,
          0.9350352143959405,
          0.829659629669946,
          0.08847303350834923,
          0.029828992504081442,
          0.3387657758370929,
          0.9959974596442112,
          0.7675826294458717,
          0.7420781099927796,
          0.07553833822301625,
          0.6261963846749959,
          0.8499305085370708,
          0.7430855857833908,
          0.36385177713259464,
          0.41878558782732933,
          0.3077163680342472,
          0.5086034568703152,
          0.6495659676753597,
          0.00826646055866087,
          0.46133365644754143,
          0.27686869960471616,
          0.6110601197940002,
          0.038276755879606106,
          0.2921025844385856,
          0.6936208471230186,
          0.5632551845691949,
          0.8838474164907488,
          0.8619228809730394,
          0.9933604137411662,
          0.8731120425525435,
          0.5720098481954932,
          0.6484133227777604,
          0.6047599394748302,
          0.02142848878002679,
          0.8961829974905834,
          0.9537808507772697,
          0.43196177064806407,
          0.28596891670155833,
          0.10605589694331807,
          0.6055348215466095,
          0.8299801076294994,
          0.7568901031005312,
          0.8939997142000559,
          0.5553683864435262,
          0.9929167606905548,
          0.407260746409564,
          0.8942918944719414,
          0.7380856686981769,
          0.9232918970127303,
          0.40923550283324894,
          0.773030239468322,
          0.4401445430618408,
          0.09820572290825758,
          0.8597842303967289,
          0.6710014763815393,
          0.9677884556177091,
          0.11852203499704717,
          0.6043251510020315
         ]
        }
       ],
       "layout": {
        "legend": {
         "bgcolor": "#F5F6F9",
         "font": {
          "color": "#4D5663"
         }
        },
        "paper_bgcolor": "#F5F6F9",
        "plot_bgcolor": "#F5F6F9",
        "template": {
         "data": {
          "bar": [
           {
            "error_x": {
             "color": "#2a3f5f"
            },
            "error_y": {
             "color": "#2a3f5f"
            },
            "marker": {
             "line": {
              "color": "#E5ECF6",
              "width": 0.5
             }
            },
            "type": "bar"
           }
          ],
          "barpolar": [
           {
            "marker": {
             "line": {
              "color": "#E5ECF6",
              "width": 0.5
             }
            },
            "type": "barpolar"
           }
          ],
          "carpet": [
           {
            "aaxis": {
             "endlinecolor": "#2a3f5f",
             "gridcolor": "white",
             "linecolor": "white",
             "minorgridcolor": "white",
             "startlinecolor": "#2a3f5f"
            },
            "baxis": {
             "endlinecolor": "#2a3f5f",
             "gridcolor": "white",
             "linecolor": "white",
             "minorgridcolor": "white",
             "startlinecolor": "#2a3f5f"
            },
            "type": "carpet"
           }
          ],
          "choropleth": [
           {
            "colorbar": {
             "outlinewidth": 0,
             "ticks": ""
            },
            "type": "choropleth"
           }
          ],
          "contour": [
           {
            "colorbar": {
             "outlinewidth": 0,
             "ticks": ""
            },
            "colorscale": [
             [
              0,
              "#0d0887"
             ],
             [
              0.1111111111111111,
              "#46039f"
             ],
             [
              0.2222222222222222,
              "#7201a8"
             ],
             [
              0.3333333333333333,
              "#9c179e"
             ],
             [
              0.4444444444444444,
              "#bd3786"
             ],
             [
              0.5555555555555556,
              "#d8576b"
             ],
             [
              0.6666666666666666,
              "#ed7953"
             ],
             [
              0.7777777777777778,
              "#fb9f3a"
             ],
             [
              0.8888888888888888,
              "#fdca26"
             ],
             [
              1,
              "#f0f921"
             ]
            ],
            "type": "contour"
           }
          ],
          "contourcarpet": [
           {
            "colorbar": {
             "outlinewidth": 0,
             "ticks": ""
            },
            "type": "contourcarpet"
           }
          ],
          "heatmap": [
           {
            "colorbar": {
             "outlinewidth": 0,
             "ticks": ""
            },
            "colorscale": [
             [
              0,
              "#0d0887"
             ],
             [
              0.1111111111111111,
              "#46039f"
             ],
             [
              0.2222222222222222,
              "#7201a8"
             ],
             [
              0.3333333333333333,
              "#9c179e"
             ],
             [
              0.4444444444444444,
              "#bd3786"
             ],
             [
              0.5555555555555556,
              "#d8576b"
             ],
             [
              0.6666666666666666,
              "#ed7953"
             ],
             [
              0.7777777777777778,
              "#fb9f3a"
             ],
             [
              0.8888888888888888,
              "#fdca26"
             ],
             [
              1,
              "#f0f921"
             ]
            ],
            "type": "heatmap"
           }
          ],
          "heatmapgl": [
           {
            "colorbar": {
             "outlinewidth": 0,
             "ticks": ""
            },
            "colorscale": [
             [
              0,
              "#0d0887"
             ],
             [
              0.1111111111111111,
              "#46039f"
             ],
             [
              0.2222222222222222,
              "#7201a8"
             ],
             [
              0.3333333333333333,
              "#9c179e"
             ],
             [
              0.4444444444444444,
              "#bd3786"
             ],
             [
              0.5555555555555556,
              "#d8576b"
             ],
             [
              0.6666666666666666,
              "#ed7953"
             ],
             [
              0.7777777777777778,
              "#fb9f3a"
             ],
             [
              0.8888888888888888,
              "#fdca26"
             ],
             [
              1,
              "#f0f921"
             ]
            ],
            "type": "heatmapgl"
           }
          ],
          "histogram": [
           {
            "marker": {
             "colorbar": {
              "outlinewidth": 0,
              "ticks": ""
             }
            },
            "type": "histogram"
           }
          ],
          "histogram2d": [
           {
            "colorbar": {
             "outlinewidth": 0,
             "ticks": ""
            },
            "colorscale": [
             [
              0,
              "#0d0887"
             ],
             [
              0.1111111111111111,
              "#46039f"
             ],
             [
              0.2222222222222222,
              "#7201a8"
             ],
             [
              0.3333333333333333,
              "#9c179e"
             ],
             [
              0.4444444444444444,
              "#bd3786"
             ],
             [
              0.5555555555555556,
              "#d8576b"
             ],
             [
              0.6666666666666666,
              "#ed7953"
             ],
             [
              0.7777777777777778,
              "#fb9f3a"
             ],
             [
              0.8888888888888888,
              "#fdca26"
             ],
             [
              1,
              "#f0f921"
             ]
            ],
            "type": "histogram2d"
           }
          ],
          "histogram2dcontour": [
           {
            "colorbar": {
             "outlinewidth": 0,
             "ticks": ""
            },
            "colorscale": [
             [
              0,
              "#0d0887"
             ],
             [
              0.1111111111111111,
              "#46039f"
             ],
             [
              0.2222222222222222,
              "#7201a8"
             ],
             [
              0.3333333333333333,
              "#9c179e"
             ],
             [
              0.4444444444444444,
              "#bd3786"
             ],
             [
              0.5555555555555556,
              "#d8576b"
             ],
             [
              0.6666666666666666,
              "#ed7953"
             ],
             [
              0.7777777777777778,
              "#fb9f3a"
             ],
             [
              0.8888888888888888,
              "#fdca26"
             ],
             [
              1,
              "#f0f921"
             ]
            ],
            "type": "histogram2dcontour"
           }
          ],
          "mesh3d": [
           {
            "colorbar": {
             "outlinewidth": 0,
             "ticks": ""
            },
            "type": "mesh3d"
           }
          ],
          "parcoords": [
           {
            "line": {
             "colorbar": {
              "outlinewidth": 0,
              "ticks": ""
             }
            },
            "type": "parcoords"
           }
          ],
          "pie": [
           {
            "automargin": true,
            "type": "pie"
           }
          ],
          "scatter": [
           {
            "marker": {
             "colorbar": {
              "outlinewidth": 0,
              "ticks": ""
             }
            },
            "type": "scatter"
           }
          ],
          "scatter3d": [
           {
            "line": {
             "colorbar": {
              "outlinewidth": 0,
              "ticks": ""
             }
            },
            "marker": {
             "colorbar": {
              "outlinewidth": 0,
              "ticks": ""
             }
            },
            "type": "scatter3d"
           }
          ],
          "scattercarpet": [
           {
            "marker": {
             "colorbar": {
              "outlinewidth": 0,
              "ticks": ""
             }
            },
            "type": "scattercarpet"
           }
          ],
          "scattergeo": [
           {
            "marker": {
             "colorbar": {
              "outlinewidth": 0,
              "ticks": ""
             }
            },
            "type": "scattergeo"
           }
          ],
          "scattergl": [
           {
            "marker": {
             "colorbar": {
              "outlinewidth": 0,
              "ticks": ""
             }
            },
            "type": "scattergl"
           }
          ],
          "scattermapbox": [
           {
            "marker": {
             "colorbar": {
              "outlinewidth": 0,
              "ticks": ""
             }
            },
            "type": "scattermapbox"
           }
          ],
          "scatterpolar": [
           {
            "marker": {
             "colorbar": {
              "outlinewidth": 0,
              "ticks": ""
             }
            },
            "type": "scatterpolar"
           }
          ],
          "scatterpolargl": [
           {
            "marker": {
             "colorbar": {
              "outlinewidth": 0,
              "ticks": ""
             }
            },
            "type": "scatterpolargl"
           }
          ],
          "scatterternary": [
           {
            "marker": {
             "colorbar": {
              "outlinewidth": 0,
              "ticks": ""
             }
            },
            "type": "scatterternary"
           }
          ],
          "surface": [
           {
            "colorbar": {
             "outlinewidth": 0,
             "ticks": ""
            },
            "colorscale": [
             [
              0,
              "#0d0887"
             ],
             [
              0.1111111111111111,
              "#46039f"
             ],
             [
              0.2222222222222222,
              "#7201a8"
             ],
             [
              0.3333333333333333,
              "#9c179e"
             ],
             [
              0.4444444444444444,
              "#bd3786"
             ],
             [
              0.5555555555555556,
              "#d8576b"
             ],
             [
              0.6666666666666666,
              "#ed7953"
             ],
             [
              0.7777777777777778,
              "#fb9f3a"
             ],
             [
              0.8888888888888888,
              "#fdca26"
             ],
             [
              1,
              "#f0f921"
             ]
            ],
            "type": "surface"
           }
          ],
          "table": [
           {
            "cells": {
             "fill": {
              "color": "#EBF0F8"
             },
             "line": {
              "color": "white"
             }
            },
            "header": {
             "fill": {
              "color": "#C8D4E3"
             },
             "line": {
              "color": "white"
             }
            },
            "type": "table"
           }
          ]
         },
         "layout": {
          "annotationdefaults": {
           "arrowcolor": "#2a3f5f",
           "arrowhead": 0,
           "arrowwidth": 1
          },
          "coloraxis": {
           "colorbar": {
            "outlinewidth": 0,
            "ticks": ""
           }
          },
          "colorscale": {
           "diverging": [
            [
             0,
             "#8e0152"
            ],
            [
             0.1,
             "#c51b7d"
            ],
            [
             0.2,
             "#de77ae"
            ],
            [
             0.3,
             "#f1b6da"
            ],
            [
             0.4,
             "#fde0ef"
            ],
            [
             0.5,
             "#f7f7f7"
            ],
            [
             0.6,
             "#e6f5d0"
            ],
            [
             0.7,
             "#b8e186"
            ],
            [
             0.8,
             "#7fbc41"
            ],
            [
             0.9,
             "#4d9221"
            ],
            [
             1,
             "#276419"
            ]
           ],
           "sequential": [
            [
             0,
             "#0d0887"
            ],
            [
             0.1111111111111111,
             "#46039f"
            ],
            [
             0.2222222222222222,
             "#7201a8"
            ],
            [
             0.3333333333333333,
             "#9c179e"
            ],
            [
             0.4444444444444444,
             "#bd3786"
            ],
            [
             0.5555555555555556,
             "#d8576b"
            ],
            [
             0.6666666666666666,
             "#ed7953"
            ],
            [
             0.7777777777777778,
             "#fb9f3a"
            ],
            [
             0.8888888888888888,
             "#fdca26"
            ],
            [
             1,
             "#f0f921"
            ]
           ],
           "sequentialminus": [
            [
             0,
             "#0d0887"
            ],
            [
             0.1111111111111111,
             "#46039f"
            ],
            [
             0.2222222222222222,
             "#7201a8"
            ],
            [
             0.3333333333333333,
             "#9c179e"
            ],
            [
             0.4444444444444444,
             "#bd3786"
            ],
            [
             0.5555555555555556,
             "#d8576b"
            ],
            [
             0.6666666666666666,
             "#ed7953"
            ],
            [
             0.7777777777777778,
             "#fb9f3a"
            ],
            [
             0.8888888888888888,
             "#fdca26"
            ],
            [
             1,
             "#f0f921"
            ]
           ]
          },
          "colorway": [
           "#636efa",
           "#EF553B",
           "#00cc96",
           "#ab63fa",
           "#FFA15A",
           "#19d3f3",
           "#FF6692",
           "#B6E880",
           "#FF97FF",
           "#FECB52"
          ],
          "font": {
           "color": "#2a3f5f"
          },
          "geo": {
           "bgcolor": "white",
           "lakecolor": "white",
           "landcolor": "#E5ECF6",
           "showlakes": true,
           "showland": true,
           "subunitcolor": "white"
          },
          "hoverlabel": {
           "align": "left"
          },
          "hovermode": "closest",
          "mapbox": {
           "style": "light"
          },
          "paper_bgcolor": "white",
          "plot_bgcolor": "#E5ECF6",
          "polar": {
           "angularaxis": {
            "gridcolor": "white",
            "linecolor": "white",
            "ticks": ""
           },
           "bgcolor": "#E5ECF6",
           "radialaxis": {
            "gridcolor": "white",
            "linecolor": "white",
            "ticks": ""
           }
          },
          "scene": {
           "xaxis": {
            "backgroundcolor": "#E5ECF6",
            "gridcolor": "white",
            "gridwidth": 2,
            "linecolor": "white",
            "showbackground": true,
            "ticks": "",
            "zerolinecolor": "white"
           },
           "yaxis": {
            "backgroundcolor": "#E5ECF6",
            "gridcolor": "white",
            "gridwidth": 2,
            "linecolor": "white",
            "showbackground": true,
            "ticks": "",
            "zerolinecolor": "white"
           },
           "zaxis": {
            "backgroundcolor": "#E5ECF6",
            "gridcolor": "white",
            "gridwidth": 2,
            "linecolor": "white",
            "showbackground": true,
            "ticks": "",
            "zerolinecolor": "white"
           }
          },
          "shapedefaults": {
           "line": {
            "color": "#2a3f5f"
           }
          },
          "ternary": {
           "aaxis": {
            "gridcolor": "white",
            "linecolor": "white",
            "ticks": ""
           },
           "baxis": {
            "gridcolor": "white",
            "linecolor": "white",
            "ticks": ""
           },
           "bgcolor": "#E5ECF6",
           "caxis": {
            "gridcolor": "white",
            "linecolor": "white",
            "ticks": ""
           }
          },
          "title": {
           "x": 0.05
          },
          "xaxis": {
           "automargin": true,
           "gridcolor": "white",
           "linecolor": "white",
           "ticks": "",
           "title": {
            "standoff": 15
           },
           "zerolinecolor": "white",
           "zerolinewidth": 2
          },
          "yaxis": {
           "automargin": true,
           "gridcolor": "white",
           "linecolor": "white",
           "ticks": "",
           "title": {
            "standoff": 15
           },
           "zerolinecolor": "white",
           "zerolinewidth": 2
          }
         }
        },
        "title": {
         "font": {
          "color": "#4D5663"
         }
        },
        "xaxis": {
         "gridcolor": "#E1E5ED",
         "showgrid": true,
         "tickfont": {
          "color": "#4D5663"
         },
         "title": {
          "font": {
           "color": "#4D5663"
          },
          "text": ""
         },
         "zerolinecolor": "#E1E5ED"
        },
        "yaxis": {
         "gridcolor": "#E1E5ED",
         "showgrid": true,
         "tickfont": {
          "color": "#4D5663"
         },
         "title": {
          "font": {
           "color": "#4D5663"
          },
          "text": ""
         },
         "zerolinecolor": "#E1E5ED"
        }
       }
      },
      "text/html": [
       "<div>                            <div id=\"a07acc97-85c7-4409-aaf4-43833e01b04e\" class=\"plotly-graph-div\" style=\"height:525px; width:100%;\"></div>            <script type=\"text/javascript\">                require([\"plotly\"], function(Plotly) {                    window.PLOTLYENV=window.PLOTLYENV || {};\n",
       "                    window.PLOTLYENV.BASE_URL='https://plot.ly';                                    if (document.getElementById(\"a07acc97-85c7-4409-aaf4-43833e01b04e\")) {                    Plotly.newPlot(                        \"a07acc97-85c7-4409-aaf4-43833e01b04e\",                        [{\"marker\": {\"color\": [\"rgb(255, 153, 51)\", \"rgb(55, 128, 191)\", \"rgb(50, 171, 96)\", \"rgb(128, 0, 128)\", \"rgb(219, 64, 82)\", \"rgb(0, 128, 128)\", \"rgb(255, 255, 51)\", \"rgb(128, 128, 0)\", \"rgb(251, 128, 114)\", \"rgb(128, 177, 211)\"], \"line\": {\"width\": 1.3}, \"size\": [63, 17, 17, 111, 77, 53, 93, 58, 63, 91, 59, 64, 64, 36, 55, 76, 54, 47, 48, 53, 39, 111, 77, 63, 76, 43, 93, 22, 20, 19, 33, 42, 59, 35, 60, 83, 88, 55, 77, 34, 96, 55, 101, 60, 93, 79, 77, 64, 98, 35, 32, 96, 22, 68, 12, 87, 31, 68, 88, 30, 64, 46, 37, 25, 51, 97, 58, 47, 18, 48, 109, 42, 74, 44, 28, 87, 68, 45, 110, 26, 95, 54, 47, 48, 44, 98, 73, 83, 51, 93, 112, 93, 27, 48, 103, 75, 72, 107, 28, 73], \"symbol\": \"circle\"}, \"mode\": \"markers\", \"text\": \"\", \"type\": \"scatter\", \"x\": [0.5161356738434313, 0.0636107172821545, 0.06692468327697487, 0.9936523799556392, 0.6566634561023436, 0.42178757090817, 0.8086668424476373, 0.46696917334465715, 0.5129833029626683, 0.7965445970407374, 0.4753749507544248, 0.5269736078845279, 0.5261516285530587, 0.2519265446908109, 0.4409403818728914, 0.6436230214509598, 0.4309093924813908, 0.36422533023935955, 0.37066206102894694, 0.421097496189345, 0.28259186083790744, 0.9860137044665604, 0.6570764348350261, 0.5166094344991606, 0.6490393566705923, 0.32147053343054677, 0.8102657376578001, 0.11050398446241882, 0.09627265273347896, 0.08700454560238846, 0.2258316558306792, 0.31348122143129686, 0.47630388580856076, 0.2416633552291907, 0.48321421471361015, 0.7171602823913971, 0.7592514927105863, 0.4348145067399688, 0.6519254878064837, 0.23562240464892648, 0.8389761449853061, 0.4357828113180149, 0.8904555215195848, 0.49243300170191573, 0.8125110982330637, 0.6714552805304276, 0.6510067444371548, 0.5224405141670765, 0.857616039374965, 0.2437485124094424, 0.2113978782820376, 0.8406689495585936, 0.1165529358447096, 0.5641530680696066, 0.010510175356872153, 0.7577676348585756, 0.20644660956327343, 0.5700530742980291, 0.7642106969260165, 0.19353335786692716, 0.5284422576689375, 0.3498861904340155, 0.2630774011604906, 0.1449589465426755, 0.39568914806906685, 0.8557987067043253, 0.47129635663487623, 0.3637625307528811, 0.07046086278636066, 0.36667011649451775, 0.9727843650178455, 0.3139598540426143, 0.622712814828662, 0.32947199664912585, 0.17377303327816296, 0.7546133445087303, 0.5663910992263943, 0.3451425503884008, 0.9783478970261547, 0.14840065449695494, 0.8330401629681037, 0.43072035332893666, 0.3562461079945607, 0.37194417031475535, 0.3335999569792627, 0.8610725848155363, 0.6125310343312728, 0.7186038061722813, 0.3953632872574543, 0.8166573564125706, 0.9947489097716217, 0.8158534215005634, 0.16639429322302368, 0.36876198445450137, 0.9127319952710993, 0.6373487118009706, 0.606332930143361, 0.9472345915619095, 0.17739635382255026, 0.6191072827347411], \"y\": [0.1626630672686057, 0.1306959975074532, 0.1175181958536533, 0.7318519873454005, 0.3663728136314005, 0.4330131365004678, 0.10459868937732109, 0.17312021455354665, 0.7424581685221942, 0.4024914311648409, 0.4225386494007666, 0.9652479008886558, 0.1568640422480947, 0.1906932468310829, 0.4049553890224278, 0.1413534741045852, 0.7974769973635923, 0.5122880874743644, 0.7114364673859719, 0.6545414468956188, 0.003122663919889135, 0.574600020728585, 0.7257651956732694, 0.7860220269480087, 0.21705297012680558, 0.9882332588912093, 0.9280064780725784, 0.6371133177573292, 0.04056129947369258, 0.6566599409325782, 0.8611208629693048, 0.36042953255577626, 0.5570817877393824, 0.2431539210116398, 0.6223154456584389, 0.2727771215522843, 0.017564377190018243, 0.31909216846520805, 0.6923659421446094, 0.10781850344782229, 0.8426556752018141, 0.9889373235577419, 0.937828210395217, 0.9350352143959405, 0.829659629669946, 0.08847303350834923, 0.029828992504081442, 0.3387657758370929, 0.9959974596442112, 0.7675826294458717, 0.7420781099927796, 0.07553833822301625, 0.6261963846749959, 0.8499305085370708, 0.7430855857833908, 0.36385177713259464, 0.41878558782732933, 0.3077163680342472, 0.5086034568703152, 0.6495659676753597, 0.00826646055866087, 0.46133365644754143, 0.27686869960471616, 0.6110601197940002, 0.038276755879606106, 0.2921025844385856, 0.6936208471230186, 0.5632551845691949, 0.8838474164907488, 0.8619228809730394, 0.9933604137411662, 0.8731120425525435, 0.5720098481954932, 0.6484133227777604, 0.6047599394748302, 0.02142848878002679, 0.8961829974905834, 0.9537808507772697, 0.43196177064806407, 0.28596891670155833, 0.10605589694331807, 0.6055348215466095, 0.8299801076294994, 0.7568901031005312, 0.8939997142000559, 0.5553683864435262, 0.9929167606905548, 0.407260746409564, 0.8942918944719414, 0.7380856686981769, 0.9232918970127303, 0.40923550283324894, 0.773030239468322, 0.4401445430618408, 0.09820572290825758, 0.8597842303967289, 0.6710014763815393, 0.9677884556177091, 0.11852203499704717, 0.6043251510020315]}],                        {\"legend\": {\"bgcolor\": \"#F5F6F9\", \"font\": {\"color\": \"#4D5663\"}}, \"paper_bgcolor\": \"#F5F6F9\", \"plot_bgcolor\": \"#F5F6F9\", \"template\": {\"data\": {\"bar\": [{\"error_x\": {\"color\": \"#2a3f5f\"}, \"error_y\": {\"color\": \"#2a3f5f\"}, \"marker\": {\"line\": {\"color\": \"#E5ECF6\", \"width\": 0.5}}, \"type\": \"bar\"}], \"barpolar\": [{\"marker\": {\"line\": {\"color\": \"#E5ECF6\", \"width\": 0.5}}, \"type\": \"barpolar\"}], \"carpet\": [{\"aaxis\": {\"endlinecolor\": \"#2a3f5f\", \"gridcolor\": \"white\", \"linecolor\": \"white\", \"minorgridcolor\": \"white\", \"startlinecolor\": \"#2a3f5f\"}, \"baxis\": {\"endlinecolor\": \"#2a3f5f\", \"gridcolor\": \"white\", \"linecolor\": \"white\", \"minorgridcolor\": \"white\", \"startlinecolor\": \"#2a3f5f\"}, \"type\": \"carpet\"}], \"choropleth\": [{\"colorbar\": {\"outlinewidth\": 0, \"ticks\": \"\"}, \"type\": \"choropleth\"}], \"contour\": [{\"colorbar\": {\"outlinewidth\": 0, \"ticks\": \"\"}, \"colorscale\": [[0.0, \"#0d0887\"], [0.1111111111111111, \"#46039f\"], [0.2222222222222222, \"#7201a8\"], [0.3333333333333333, \"#9c179e\"], [0.4444444444444444, \"#bd3786\"], [0.5555555555555556, \"#d8576b\"], [0.6666666666666666, \"#ed7953\"], [0.7777777777777778, \"#fb9f3a\"], [0.8888888888888888, \"#fdca26\"], [1.0, \"#f0f921\"]], \"type\": \"contour\"}], \"contourcarpet\": [{\"colorbar\": {\"outlinewidth\": 0, \"ticks\": \"\"}, \"type\": \"contourcarpet\"}], \"heatmap\": [{\"colorbar\": {\"outlinewidth\": 0, \"ticks\": \"\"}, \"colorscale\": [[0.0, \"#0d0887\"], [0.1111111111111111, \"#46039f\"], [0.2222222222222222, \"#7201a8\"], [0.3333333333333333, \"#9c179e\"], [0.4444444444444444, \"#bd3786\"], [0.5555555555555556, \"#d8576b\"], [0.6666666666666666, \"#ed7953\"], [0.7777777777777778, \"#fb9f3a\"], [0.8888888888888888, \"#fdca26\"], [1.0, \"#f0f921\"]], \"type\": \"heatmap\"}], \"heatmapgl\": [{\"colorbar\": {\"outlinewidth\": 0, \"ticks\": \"\"}, \"colorscale\": [[0.0, \"#0d0887\"], [0.1111111111111111, \"#46039f\"], [0.2222222222222222, \"#7201a8\"], [0.3333333333333333, \"#9c179e\"], [0.4444444444444444, \"#bd3786\"], [0.5555555555555556, \"#d8576b\"], [0.6666666666666666, \"#ed7953\"], [0.7777777777777778, \"#fb9f3a\"], [0.8888888888888888, \"#fdca26\"], [1.0, \"#f0f921\"]], \"type\": \"heatmapgl\"}], \"histogram\": [{\"marker\": {\"colorbar\": {\"outlinewidth\": 0, \"ticks\": \"\"}}, \"type\": \"histogram\"}], \"histogram2d\": [{\"colorbar\": {\"outlinewidth\": 0, \"ticks\": \"\"}, \"colorscale\": [[0.0, \"#0d0887\"], [0.1111111111111111, \"#46039f\"], [0.2222222222222222, \"#7201a8\"], [0.3333333333333333, \"#9c179e\"], [0.4444444444444444, \"#bd3786\"], [0.5555555555555556, \"#d8576b\"], [0.6666666666666666, \"#ed7953\"], [0.7777777777777778, \"#fb9f3a\"], [0.8888888888888888, \"#fdca26\"], [1.0, \"#f0f921\"]], \"type\": \"histogram2d\"}], \"histogram2dcontour\": [{\"colorbar\": {\"outlinewidth\": 0, \"ticks\": \"\"}, \"colorscale\": [[0.0, \"#0d0887\"], [0.1111111111111111, \"#46039f\"], [0.2222222222222222, \"#7201a8\"], [0.3333333333333333, \"#9c179e\"], [0.4444444444444444, \"#bd3786\"], [0.5555555555555556, \"#d8576b\"], [0.6666666666666666, \"#ed7953\"], [0.7777777777777778, \"#fb9f3a\"], [0.8888888888888888, \"#fdca26\"], [1.0, \"#f0f921\"]], \"type\": \"histogram2dcontour\"}], \"mesh3d\": [{\"colorbar\": {\"outlinewidth\": 0, \"ticks\": \"\"}, \"type\": \"mesh3d\"}], \"parcoords\": [{\"line\": {\"colorbar\": {\"outlinewidth\": 0, \"ticks\": \"\"}}, \"type\": \"parcoords\"}], \"pie\": [{\"automargin\": true, \"type\": \"pie\"}], \"scatter\": [{\"marker\": {\"colorbar\": {\"outlinewidth\": 0, \"ticks\": \"\"}}, \"type\": \"scatter\"}], \"scatter3d\": [{\"line\": {\"colorbar\": {\"outlinewidth\": 0, \"ticks\": \"\"}}, \"marker\": {\"colorbar\": {\"outlinewidth\": 0, \"ticks\": \"\"}}, \"type\": \"scatter3d\"}], \"scattercarpet\": [{\"marker\": {\"colorbar\": {\"outlinewidth\": 0, \"ticks\": \"\"}}, \"type\": \"scattercarpet\"}], \"scattergeo\": [{\"marker\": {\"colorbar\": {\"outlinewidth\": 0, \"ticks\": \"\"}}, \"type\": \"scattergeo\"}], \"scattergl\": [{\"marker\": {\"colorbar\": {\"outlinewidth\": 0, \"ticks\": \"\"}}, \"type\": \"scattergl\"}], \"scattermapbox\": [{\"marker\": {\"colorbar\": {\"outlinewidth\": 0, \"ticks\": \"\"}}, \"type\": \"scattermapbox\"}], \"scatterpolar\": [{\"marker\": {\"colorbar\": {\"outlinewidth\": 0, \"ticks\": \"\"}}, \"type\": \"scatterpolar\"}], \"scatterpolargl\": [{\"marker\": {\"colorbar\": {\"outlinewidth\": 0, \"ticks\": \"\"}}, \"type\": \"scatterpolargl\"}], \"scatterternary\": [{\"marker\": {\"colorbar\": {\"outlinewidth\": 0, \"ticks\": \"\"}}, \"type\": \"scatterternary\"}], \"surface\": [{\"colorbar\": {\"outlinewidth\": 0, \"ticks\": \"\"}, \"colorscale\": [[0.0, \"#0d0887\"], [0.1111111111111111, \"#46039f\"], [0.2222222222222222, \"#7201a8\"], [0.3333333333333333, \"#9c179e\"], [0.4444444444444444, \"#bd3786\"], [0.5555555555555556, \"#d8576b\"], [0.6666666666666666, \"#ed7953\"], [0.7777777777777778, \"#fb9f3a\"], [0.8888888888888888, \"#fdca26\"], [1.0, \"#f0f921\"]], \"type\": \"surface\"}], \"table\": [{\"cells\": {\"fill\": {\"color\": \"#EBF0F8\"}, \"line\": {\"color\": \"white\"}}, \"header\": {\"fill\": {\"color\": \"#C8D4E3\"}, \"line\": {\"color\": \"white\"}}, \"type\": \"table\"}]}, \"layout\": {\"annotationdefaults\": {\"arrowcolor\": \"#2a3f5f\", \"arrowhead\": 0, \"arrowwidth\": 1}, \"coloraxis\": {\"colorbar\": {\"outlinewidth\": 0, \"ticks\": \"\"}}, \"colorscale\": {\"diverging\": [[0, \"#8e0152\"], [0.1, \"#c51b7d\"], [0.2, \"#de77ae\"], [0.3, \"#f1b6da\"], [0.4, \"#fde0ef\"], [0.5, \"#f7f7f7\"], [0.6, \"#e6f5d0\"], [0.7, \"#b8e186\"], [0.8, \"#7fbc41\"], [0.9, \"#4d9221\"], [1, \"#276419\"]], \"sequential\": [[0.0, \"#0d0887\"], [0.1111111111111111, \"#46039f\"], [0.2222222222222222, \"#7201a8\"], [0.3333333333333333, \"#9c179e\"], [0.4444444444444444, \"#bd3786\"], [0.5555555555555556, \"#d8576b\"], [0.6666666666666666, \"#ed7953\"], [0.7777777777777778, \"#fb9f3a\"], [0.8888888888888888, \"#fdca26\"], [1.0, \"#f0f921\"]], \"sequentialminus\": [[0.0, \"#0d0887\"], [0.1111111111111111, \"#46039f\"], [0.2222222222222222, \"#7201a8\"], [0.3333333333333333, \"#9c179e\"], [0.4444444444444444, \"#bd3786\"], [0.5555555555555556, \"#d8576b\"], [0.6666666666666666, \"#ed7953\"], [0.7777777777777778, \"#fb9f3a\"], [0.8888888888888888, \"#fdca26\"], [1.0, \"#f0f921\"]]}, \"colorway\": [\"#636efa\", \"#EF553B\", \"#00cc96\", \"#ab63fa\", \"#FFA15A\", \"#19d3f3\", \"#FF6692\", \"#B6E880\", \"#FF97FF\", \"#FECB52\"], \"font\": {\"color\": \"#2a3f5f\"}, \"geo\": {\"bgcolor\": \"white\", \"lakecolor\": \"white\", \"landcolor\": \"#E5ECF6\", \"showlakes\": true, \"showland\": true, \"subunitcolor\": \"white\"}, \"hoverlabel\": {\"align\": \"left\"}, \"hovermode\": \"closest\", \"mapbox\": {\"style\": \"light\"}, \"paper_bgcolor\": \"white\", \"plot_bgcolor\": \"#E5ECF6\", \"polar\": {\"angularaxis\": {\"gridcolor\": \"white\", \"linecolor\": \"white\", \"ticks\": \"\"}, \"bgcolor\": \"#E5ECF6\", \"radialaxis\": {\"gridcolor\": \"white\", \"linecolor\": \"white\", \"ticks\": \"\"}}, \"scene\": {\"xaxis\": {\"backgroundcolor\": \"#E5ECF6\", \"gridcolor\": \"white\", \"gridwidth\": 2, \"linecolor\": \"white\", \"showbackground\": true, \"ticks\": \"\", \"zerolinecolor\": \"white\"}, \"yaxis\": {\"backgroundcolor\": \"#E5ECF6\", \"gridcolor\": \"white\", \"gridwidth\": 2, \"linecolor\": \"white\", \"showbackground\": true, \"ticks\": \"\", \"zerolinecolor\": \"white\"}, \"zaxis\": {\"backgroundcolor\": \"#E5ECF6\", \"gridcolor\": \"white\", \"gridwidth\": 2, \"linecolor\": \"white\", \"showbackground\": true, \"ticks\": \"\", \"zerolinecolor\": \"white\"}}, \"shapedefaults\": {\"line\": {\"color\": \"#2a3f5f\"}}, \"ternary\": {\"aaxis\": {\"gridcolor\": \"white\", \"linecolor\": \"white\", \"ticks\": \"\"}, \"baxis\": {\"gridcolor\": \"white\", \"linecolor\": \"white\", \"ticks\": \"\"}, \"bgcolor\": \"#E5ECF6\", \"caxis\": {\"gridcolor\": \"white\", \"linecolor\": \"white\", \"ticks\": \"\"}}, \"title\": {\"x\": 0.05}, \"xaxis\": {\"automargin\": true, \"gridcolor\": \"white\", \"linecolor\": \"white\", \"ticks\": \"\", \"title\": {\"standoff\": 15}, \"zerolinecolor\": \"white\", \"zerolinewidth\": 2}, \"yaxis\": {\"automargin\": true, \"gridcolor\": \"white\", \"linecolor\": \"white\", \"ticks\": \"\", \"title\": {\"standoff\": 15}, \"zerolinecolor\": \"white\", \"zerolinewidth\": 2}}}, \"title\": {\"font\": {\"color\": \"#4D5663\"}}, \"xaxis\": {\"gridcolor\": \"#E1E5ED\", \"showgrid\": true, \"tickfont\": {\"color\": \"#4D5663\"}, \"title\": {\"font\": {\"color\": \"#4D5663\"}, \"text\": \"\"}, \"zerolinecolor\": \"#E1E5ED\"}, \"yaxis\": {\"gridcolor\": \"#E1E5ED\", \"showgrid\": true, \"tickfont\": {\"color\": \"#4D5663\"}, \"title\": {\"font\": {\"color\": \"#4D5663\"}, \"text\": \"\"}, \"zerolinecolor\": \"#E1E5ED\"}},                        {\"showLink\": true, \"linkText\": \"Export to plot.ly\", \"plotlyServerURL\": \"https://plot.ly\", \"responsive\": true}                    ).then(function(){\n",
       "                            \n",
       "var gd = document.getElementById('a07acc97-85c7-4409-aaf4-43833e01b04e');\n",
       "var x = new MutationObserver(function (mutations, observer) {{\n",
       "        var display = window.getComputedStyle(gd).display;\n",
       "        if (!display || display === 'none') {{\n",
       "            console.log([gd, 'removed!']);\n",
       "            Plotly.purge(gd);\n",
       "            observer.disconnect();\n",
       "        }}\n",
       "}});\n",
       "\n",
       "// Listen for the removal of the full notebook cells\n",
       "var notebookContainer = gd.closest('#notebook-container');\n",
       "if (notebookContainer) {{\n",
       "    x.observe(notebookContainer, {childList: true});\n",
       "}}\n",
       "\n",
       "// Listen for the clearing of the current output cell\n",
       "var outputEl = gd.closest('.output');\n",
       "if (outputEl) {{\n",
       "    x.observe(outputEl, {childList: true});\n",
       "}}\n",
       "\n",
       "                        })                };                });            </script>        </div>"
      ]
     },
     "metadata": {},
     "output_type": "display_data"
    }
   ],
   "source": [
    " df1.iplot(kind='bubble',x = 'A', y = 'B',z='C', size='A')"
   ]
  },
  {
   "cell_type": "code",
   "execution_count": 7,
   "metadata": {},
   "outputs": [],
   "source": [
    "def main(cat):\n",
    "    if cat == 1:\n",
    "        print('Select the type of plot you need to plot by entering any one option')\n",
    "        print('1.Line plot')\n",
    "        print('2.Scatter plot')\n",
    "        print('3.Bar plot')\n",
    "        print('4.Histogram')\n",
    "        print('5.Box plot')\n",
    "        print('6.Surface plot')\n",
    "        plot = int(input())\n",
    "        output = plotter(plot)\n",
    "    elif cat == 2:\n",
    "        print('Select the type of plot you need to plot by entering any one option')\n",
    "        print('1.Line plot')\n",
    "        print('2.Scatter plot')\n",
    "        print('3.Bar plot')\n",
    "        print('4.Histogram')\n",
    "        print('5.Box plot')\n",
    "        print('6.Surface plot')\n",
    "        print('7.Bubble plot')\n",
    "        plot = int(input())\n",
    "        output = plotter2(plot)\n",
    "    else:\n",
    "        print('please enter an appropriate option')"
   ]
  },
  {
   "cell_type": "code",
   "execution_count": null,
   "metadata": {},
   "outputs": [],
   "source": []
  },
  {
   "cell_type": "code",
   "execution_count": null,
   "metadata": {},
   "outputs": [],
   "source": []
  },
  {
   "cell_type": "code",
   "execution_count": 14,
   "metadata": {},
   "outputs": [
    {
     "name": "stdout",
     "output_type": "stream",
     "text": [
      "select the type of data you need to plot by entering 1,2 or 3\n",
      "1.Random data with 100 rows and 5 columns\n",
      "2.Customize data frame with 4 rows and 5 columns\n",
      "3.Upload csv/json/txt/file\n",
      "1\n"
     ]
    }
   ],
   "source": [
    "print('select the type of data you need to plot by entering 1,2 or 3')\n",
    "print('1.Random data with 100 rows and 5 columns')\n",
    "print(\"2.Customize data frame with 4 rows and 5 columns\")\n",
    "print('3.Upload csv/json/txt/file')\n",
    "ch1 = int(input())\n",
    "df1 = createData(ch1)"
   ]
  },
  {
   "cell_type": "code",
   "execution_count": 15,
   "metadata": {},
   "outputs": [
    {
     "name": "stdout",
     "output_type": "stream",
     "text": [
      "Your Dataframe head is given below check the columns to plot using cufflinks\n"
     ]
    },
    {
     "data": {
      "text/html": [
       "<div>\n",
       "<style scoped>\n",
       "    .dataframe tbody tr th:only-of-type {\n",
       "        vertical-align: middle;\n",
       "    }\n",
       "\n",
       "    .dataframe tbody tr th {\n",
       "        vertical-align: top;\n",
       "    }\n",
       "\n",
       "    .dataframe thead th {\n",
       "        text-align: right;\n",
       "    }\n",
       "</style>\n",
       "<table border=\"1\" class=\"dataframe\">\n",
       "  <thead>\n",
       "    <tr style=\"text-align: right;\">\n",
       "      <th></th>\n",
       "      <th>A</th>\n",
       "      <th>B</th>\n",
       "      <th>C</th>\n",
       "      <th>D</th>\n",
       "      <th>E</th>\n",
       "    </tr>\n",
       "  </thead>\n",
       "  <tbody>\n",
       "    <tr>\n",
       "      <td>0</td>\n",
       "      <td>0.516136</td>\n",
       "      <td>0.162663</td>\n",
       "      <td>0.866709</td>\n",
       "      <td>0.177929</td>\n",
       "      <td>0.740881</td>\n",
       "    </tr>\n",
       "    <tr>\n",
       "      <td>1</td>\n",
       "      <td>0.063611</td>\n",
       "      <td>0.130696</td>\n",
       "      <td>0.421699</td>\n",
       "      <td>0.660000</td>\n",
       "      <td>0.070873</td>\n",
       "    </tr>\n",
       "    <tr>\n",
       "      <td>2</td>\n",
       "      <td>0.066925</td>\n",
       "      <td>0.117518</td>\n",
       "      <td>0.284490</td>\n",
       "      <td>0.410542</td>\n",
       "      <td>0.295222</td>\n",
       "    </tr>\n",
       "    <tr>\n",
       "      <td>3</td>\n",
       "      <td>0.993652</td>\n",
       "      <td>0.731852</td>\n",
       "      <td>0.377566</td>\n",
       "      <td>0.717872</td>\n",
       "      <td>0.083169</td>\n",
       "    </tr>\n",
       "    <tr>\n",
       "      <td>4</td>\n",
       "      <td>0.656663</td>\n",
       "      <td>0.366373</td>\n",
       "      <td>0.878000</td>\n",
       "      <td>0.888867</td>\n",
       "      <td>0.312506</td>\n",
       "    </tr>\n",
       "  </tbody>\n",
       "</table>\n",
       "</div>"
      ],
      "text/plain": [
       "          A         B         C         D         E\n",
       "0  0.516136  0.162663  0.866709  0.177929  0.740881\n",
       "1  0.063611  0.130696  0.421699  0.660000  0.070873\n",
       "2  0.066925  0.117518  0.284490  0.410542  0.295222\n",
       "3  0.993652  0.731852  0.377566  0.717872  0.083169\n",
       "4  0.656663  0.366373  0.878000  0.888867  0.312506"
      ]
     },
     "execution_count": 15,
     "metadata": {},
     "output_type": "execute_result"
    }
   ],
   "source": [
    "print('Your Dataframe head is given below check the columns to plot using cufflinks')\n",
    "df1.head()"
   ]
  },
  {
   "cell_type": "code",
   "execution_count": 16,
   "metadata": {},
   "outputs": [
    {
     "name": "stdout",
     "output_type": "stream",
     "text": [
      "What kind of plot you need, the complete data plot or column plot\n",
      "Press 1 for plotting all columns or press 2 for specifying columns1\n"
     ]
    }
   ],
   "source": [
    "print('What kind of plot you need, the complete data plot or column plot')\n",
    "cat = int(input(\"Press 1 for plotting all columns or press 2 for specifying columns\"))"
   ]
  },
  {
   "cell_type": "code",
   "execution_count": 17,
   "metadata": {},
   "outputs": [
    {
     "name": "stdout",
     "output_type": "stream",
     "text": [
      "Select the type of plot you need to plot by entering any one option\n",
      "1.Line plot\n",
      "2.Scatter plot\n",
      "3.Bar plot\n",
      "4.Histogram\n",
      "5.Box plot\n",
      "6.Surface plot\n",
      "6\n",
      "inside plotter\n"
     ]
    },
    {
     "data": {
      "application/vnd.plotly.v1+json": {
       "config": {
        "linkText": "Export to plot.ly",
        "plotlyServerURL": "https://plot.ly",
        "showLink": true
       },
       "data": [
        {
         "colorscale": [
          [
           0,
           "rgb(255, 153, 51)"
          ],
          [
           0.1111111111111111,
           "rgb(55, 128, 191)"
          ],
          [
           0.2222222222222222,
           "rgb(50, 171, 96)"
          ],
          [
           0.3333333333333333,
           "rgb(128, 0, 128)"
          ],
          [
           0.4444444444444444,
           "rgb(219, 64, 82)"
          ],
          [
           0.5555555555555556,
           "rgb(0, 128, 128)"
          ],
          [
           0.6666666666666666,
           "rgb(255, 255, 51)"
          ],
          [
           0.7777777777777778,
           "rgb(128, 128, 0)"
          ],
          [
           0.8888888888888888,
           "rgb(251, 128, 114)"
          ],
          [
           1,
           "rgb(128, 177, 211)"
          ]
         ],
         "type": "surface",
         "x": [
          0,
          1,
          2,
          3,
          4,
          5,
          6,
          7,
          8,
          9,
          10,
          11,
          12,
          13,
          14,
          15,
          16,
          17,
          18,
          19,
          20,
          21,
          22,
          23,
          24,
          25,
          26,
          27,
          28,
          29,
          30,
          31,
          32,
          33,
          34,
          35,
          36,
          37,
          38,
          39,
          40,
          41,
          42,
          43,
          44,
          45,
          46,
          47,
          48,
          49,
          50,
          51,
          52,
          53,
          54,
          55,
          56,
          57,
          58,
          59,
          60,
          61,
          62,
          63,
          64,
          65,
          66,
          67,
          68,
          69,
          70,
          71,
          72,
          73,
          74,
          75,
          76,
          77,
          78,
          79,
          80,
          81,
          82,
          83,
          84,
          85,
          86,
          87,
          88,
          89,
          90,
          91,
          92,
          93,
          94,
          95,
          96,
          97,
          98,
          99
         ],
         "y": [
          "A",
          "B",
          "C",
          "D",
          "E"
         ],
         "z": [
          [
           0.5161356738434313,
           0.0636107172821545,
           0.06692468327697487,
           0.9936523799556392,
           0.6566634561023436,
           0.42178757090817,
           0.8086668424476373,
           0.46696917334465715,
           0.5129833029626683,
           0.7965445970407374,
           0.4753749507544248,
           0.5269736078845279,
           0.5261516285530587,
           0.2519265446908109,
           0.4409403818728914,
           0.6436230214509598,
           0.4309093924813908,
           0.36422533023935955,
           0.37066206102894694,
           0.421097496189345,
           0.28259186083790744,
           0.9860137044665604,
           0.6570764348350261,
           0.5166094344991606,
           0.6490393566705923,
           0.32147053343054677,
           0.8102657376578001,
           0.11050398446241882,
           0.09627265273347896,
           0.08700454560238846,
           0.2258316558306792,
           0.31348122143129686,
           0.47630388580856076,
           0.2416633552291907,
           0.48321421471361015,
           0.7171602823913971,
           0.7592514927105863,
           0.4348145067399688,
           0.6519254878064837,
           0.23562240464892648,
           0.8389761449853061,
           0.4357828113180149,
           0.8904555215195848,
           0.49243300170191573,
           0.8125110982330637,
           0.6714552805304276,
           0.6510067444371548,
           0.5224405141670765,
           0.857616039374965,
           0.2437485124094424,
           0.2113978782820376,
           0.8406689495585936,
           0.1165529358447096,
           0.5641530680696066,
           0.010510175356872153,
           0.7577676348585756,
           0.20644660956327343,
           0.5700530742980291,
           0.7642106969260165,
           0.19353335786692716,
           0.5284422576689375,
           0.3498861904340155,
           0.2630774011604906,
           0.1449589465426755,
           0.39568914806906685,
           0.8557987067043253,
           0.47129635663487623,
           0.3637625307528811,
           0.07046086278636066,
           0.36667011649451775,
           0.9727843650178455,
           0.3139598540426143,
           0.622712814828662,
           0.32947199664912585,
           0.17377303327816296,
           0.7546133445087303,
           0.5663910992263943,
           0.3451425503884008,
           0.9783478970261547,
           0.14840065449695494,
           0.8330401629681037,
           0.43072035332893666,
           0.3562461079945607,
           0.37194417031475535,
           0.3335999569792627,
           0.8610725848155363,
           0.6125310343312728,
           0.7186038061722813,
           0.3953632872574543,
           0.8166573564125706,
           0.9947489097716217,
           0.8158534215005634,
           0.16639429322302368,
           0.36876198445450137,
           0.9127319952710993,
           0.6373487118009706,
           0.606332930143361,
           0.9472345915619095,
           0.17739635382255026,
           0.6191072827347411
          ],
          [
           0.1626630672686057,
           0.1306959975074532,
           0.1175181958536533,
           0.7318519873454005,
           0.3663728136314005,
           0.4330131365004678,
           0.10459868937732109,
           0.17312021455354665,
           0.7424581685221942,
           0.4024914311648409,
           0.4225386494007666,
           0.9652479008886558,
           0.1568640422480947,
           0.1906932468310829,
           0.4049553890224278,
           0.1413534741045852,
           0.7974769973635923,
           0.5122880874743644,
           0.7114364673859719,
           0.6545414468956188,
           0.003122663919889135,
           0.574600020728585,
           0.7257651956732694,
           0.7860220269480087,
           0.21705297012680558,
           0.9882332588912093,
           0.9280064780725784,
           0.6371133177573292,
           0.04056129947369258,
           0.6566599409325782,
           0.8611208629693048,
           0.36042953255577626,
           0.5570817877393824,
           0.2431539210116398,
           0.6223154456584389,
           0.2727771215522843,
           0.017564377190018243,
           0.31909216846520805,
           0.6923659421446094,
           0.10781850344782229,
           0.8426556752018141,
           0.9889373235577419,
           0.937828210395217,
           0.9350352143959405,
           0.829659629669946,
           0.08847303350834923,
           0.029828992504081442,
           0.3387657758370929,
           0.9959974596442112,
           0.7675826294458717,
           0.7420781099927796,
           0.07553833822301625,
           0.6261963846749959,
           0.8499305085370708,
           0.7430855857833908,
           0.36385177713259464,
           0.41878558782732933,
           0.3077163680342472,
           0.5086034568703152,
           0.6495659676753597,
           0.00826646055866087,
           0.46133365644754143,
           0.27686869960471616,
           0.6110601197940002,
           0.038276755879606106,
           0.2921025844385856,
           0.6936208471230186,
           0.5632551845691949,
           0.8838474164907488,
           0.8619228809730394,
           0.9933604137411662,
           0.8731120425525435,
           0.5720098481954932,
           0.6484133227777604,
           0.6047599394748302,
           0.02142848878002679,
           0.8961829974905834,
           0.9537808507772697,
           0.43196177064806407,
           0.28596891670155833,
           0.10605589694331807,
           0.6055348215466095,
           0.8299801076294994,
           0.7568901031005312,
           0.8939997142000559,
           0.5553683864435262,
           0.9929167606905548,
           0.407260746409564,
           0.8942918944719414,
           0.7380856686981769,
           0.9232918970127303,
           0.40923550283324894,
           0.773030239468322,
           0.4401445430618408,
           0.09820572290825758,
           0.8597842303967289,
           0.6710014763815393,
           0.9677884556177091,
           0.11852203499704717,
           0.6043251510020315
          ],
          [
           0.8667086423871267,
           0.42169900671541927,
           0.28449002613714824,
           0.37756573170342356,
           0.8780004261633513,
           0.7323128659084952,
           0.07384888968313152,
           0.06825126844572293,
           0.1938296444047739,
           0.8403650878581878,
           0.16777059669144456,
           0.12499071609107082,
           0.6072541966172804,
           0.045984951811504415,
           0.9180200408285674,
           0.27482730036114067,
           0.42405714626358904,
           0.867396817393961,
           0.0443826325234965,
           0.6478885209013149,
           0.8758122835386893,
           0.24112335282360853,
           0.5618157943836666,
           0.22976523033005558,
           0.5910737391678997,
           0.23797124229670585,
           0.30112686048417225,
           0.2206671715937718,
           0.11987652914926283,
           0.45347792883274485,
           0.7814871591185828,
           0.1582193491740379,
           0.6737270989731539,
           0.4438393084423028,
           0.389448541370894,
           0.35324775514705653,
           0.40556602787013685,
           0.4478453382114136,
           0.6847624951661764,
           0.6589517975147366,
           0.2150048668304817,
           0.473486925169296,
           0.004472488569293609,
           0.34629913979382576,
           0.7668999787132823,
           0.05372564287789394,
           0.6153890203424148,
           0.8901395590092461,
           0.4506657898662534,
           0.3198490641023768,
           0.013619987547263124,
           0.7820842193812664,
           0.8072231745083163,
           0.19884018022188976,
           0.9784578651712587,
           0.8785914144558111,
           0.6149682815726469,
           0.792533353497172,
           0.6527044187741047,
           0.6155775886575672,
           0.3517426024734337,
           0.8936776246203746,
           0.5068918533232788,
           0.016508366577833722,
           0.5599712603638586,
           0.8921874258566521,
           0.9941821930515896,
           0.717689010840149,
           0.48425334910931295,
           0.5263636071523451,
           0.7515667503342033,
           0.6703631760819342,
           0.8794882483967172,
           0.18612200458205386,
           0.31894640794323625,
           0.2587473576621159,
           0.6079198661877776,
           0.9881132674992965,
           0.5586593858650656,
           0.840572075988018,
           0.08455001381331084,
           0.8795677516054241,
           0.03434577976706654,
           0.50411462764669,
           0.4637612672369107,
           0.6296468100694633,
           0.5467755452798754,
           0.7125302128325665,
           0.8604526410231832,
           0.541504299125747,
           0.7878231875574138,
           0.3366382203204067,
           0.591735515120237,
           0.554604993090406,
           0.2783679649417863,
           0.9450092879849966,
           0.15782038677589583,
           0.1893895303827846,
           0.8792874805737942,
           0.615991651642136
          ],
          [
           0.17792852362475275,
           0.6600002421259734,
           0.4105417560424345,
           0.7178723714117493,
           0.8888670846248188,
           0.33401655393770546,
           0.9401472865444825,
           0.6174954171397649,
           0.5278331015278095,
           0.2410810050436536,
           0.7307747937095651,
           0.8309201476509097,
           0.8707510643442428,
           0.6361182685735102,
           0.237074378568911,
           0.38261224025066276,
           0.13409722739171537,
           0.9680458492512756,
           0.48499758638656687,
           0.8694203838186665,
           0.48307132207906156,
           0.5475503398532455,
           0.8358434905955878,
           0.009818413633657763,
           0.23709299284640806,
           0.5996938666077932,
           0.41246894768273734,
           0.7234805457067647,
           0.4280724787789234,
           0.3305118715357317,
           0.09892013233412544,
           0.694119252741951,
           0.07274221673306758,
           0.7327686957624108,
           0.21447118031321988,
           0.32513649276919,
           0.14566574385531494,
           0.19608070274851008,
           0.49675633412816256,
           0.33032792140752176,
           0.40734638506395726,
           0.0898864032665202,
           0.7503163095787414,
           0.49341261884704835,
           0.09660440822672045,
           0.838257384343858,
           0.30074334831741834,
           0.4621787946007475,
           0.79072674164987,
           0.30448464982912415,
           0.6143295694743526,
           0.9237729632573771,
           0.9488716556150311,
           0.49946484049240214,
           0.312255929554206,
           0.6390200239593766,
           0.2012059749567613,
           0.8182395594160895,
           0.44904752387736824,
           0.3433132340938905,
           0.5032500118887525,
           0.994850783788061,
           0.052995179178338625,
           0.8163596439192412,
           0.7138148614163943,
           0.15937527631370396,
           0.9823587338009072,
           0.04547221045099692,
           0.3565508211390357,
           0.11665061671955401,
           0.6555023423864546,
           0.25465198439451164,
           0.34711586434812125,
           0.5607549578459152,
           0.31637198070463945,
           0.3086806814178312,
           0.5225292563099774,
           0.264731341056884,
           0.42210349383235846,
           0.3594050635082323,
           0.4411094626057912,
           0.714997338998335,
           0.15844572560218995,
           0.4843974714207899,
           0.011243066255371748,
           0.10615073872882219,
           0.9942606440964181,
           0.5403802591519169,
           0.2497787051623912,
           0.7563217431938193,
           0.7041669922155152,
           0.3090247449890441,
           0.837900608461323,
           0.20687907955437812,
           0.054823138265147286,
           0.0750696732427848,
           0.8805067042742604,
           0.8494277228270641,
           0.8016802415522692,
           0.9188813553248287
          ],
          [
           0.7408809314876459,
           0.07087308701861172,
           0.2952223971066237,
           0.08316867079538548,
           0.31250603457595794,
           0.8552747522930202,
           0.5958243333070937,
           0.33402171633968336,
           0.6351504361158696,
           0.34705855527923246,
           0.4624793727901335,
           0.10083360013926101,
           0.8294994834350653,
           0.9570914248245771,
           0.8177673957108528,
           0.3865053792121206,
           0.01672868210929801,
           0.22296905035924874,
           0.8964627356562357,
           0.7840063494458447,
           0.5883992834627351,
           0.3659521727946169,
           0.02239702763762086,
           0.8237375070468044,
           0.933241119375905,
           0.9451185352421476,
           0.7807690859354781,
           0.9325514268918567,
           0.11756475363431229,
           0.9336758310092251,
           0.23439616539705976,
           0.2037595437077937,
           0.89436257591579,
           0.8142023964612394,
           0.819074068891952,
           0.0722639706447491,
           0.33230831126575044,
           0.606204779501313,
           0.4319046979948402,
           0.006067300431740308,
           0.03978273824407219,
           0.027966541431041936,
           0.5554193906797822,
           0.012753027358030078,
           0.6379540824100064,
           0.25252015048544674,
           0.9458194390279805,
           0.3713416102168847,
           0.8968572340186026,
           0.4449232973477151,
           0.5777419100373141,
           0.3647855391458109,
           0.8954363168798852,
           0.22586318011978568,
           0.011464105599779506,
           0.6564903293352492,
           0.4725003429467852,
           0.765207402697249,
           0.9762678831837628,
           0.9098553518932753,
           0.08319972378609708,
           0.5583297731947869,
           0.31080126552444,
           0.5328260750118508,
           0.4708419511434082,
           0.15311600494165667,
           0.8960701039018686,
           0.714981135631073,
           0.31529306552343783,
           0.5492768430380829,
           0.2619160976503626,
           0.49469360764503956,
           0.18427776632507276,
           0.22146725637790632,
           0.9704953901781687,
           0.24016833133850324,
           0.33146615780787314,
           0.18632265489384436,
           0.4703415031974313,
           0.7664316069750894,
           0.8033282745911152,
           0.7576344491998316,
           0.9563459911274541,
           0.7481289878365114,
           0.3753706247838102,
           0.30473001036291625,
           0.7097374240625239,
           0.24568340150559997,
           0.35648134431596334,
           0.2969840624994986,
           0.3230861986461814,
           0.07267971578917465,
           0.43521305201322047,
           0.4514145774522087,
           0.9828550032606159,
           0.7091954497041283,
           0.8912245075676247,
           0.38304044585742947,
           0.8862345503260743,
           0.21864771568821406
          ]
         ]
        }
       ],
       "layout": {
        "legend": {
         "bgcolor": "#F5F6F9",
         "font": {
          "color": "#4D5663"
         }
        },
        "paper_bgcolor": "#F5F6F9",
        "plot_bgcolor": "#F5F6F9",
        "template": {
         "data": {
          "bar": [
           {
            "error_x": {
             "color": "#2a3f5f"
            },
            "error_y": {
             "color": "#2a3f5f"
            },
            "marker": {
             "line": {
              "color": "#E5ECF6",
              "width": 0.5
             }
            },
            "type": "bar"
           }
          ],
          "barpolar": [
           {
            "marker": {
             "line": {
              "color": "#E5ECF6",
              "width": 0.5
             }
            },
            "type": "barpolar"
           }
          ],
          "carpet": [
           {
            "aaxis": {
             "endlinecolor": "#2a3f5f",
             "gridcolor": "white",
             "linecolor": "white",
             "minorgridcolor": "white",
             "startlinecolor": "#2a3f5f"
            },
            "baxis": {
             "endlinecolor": "#2a3f5f",
             "gridcolor": "white",
             "linecolor": "white",
             "minorgridcolor": "white",
             "startlinecolor": "#2a3f5f"
            },
            "type": "carpet"
           }
          ],
          "choropleth": [
           {
            "colorbar": {
             "outlinewidth": 0,
             "ticks": ""
            },
            "type": "choropleth"
           }
          ],
          "contour": [
           {
            "colorbar": {
             "outlinewidth": 0,
             "ticks": ""
            },
            "colorscale": [
             [
              0,
              "#0d0887"
             ],
             [
              0.1111111111111111,
              "#46039f"
             ],
             [
              0.2222222222222222,
              "#7201a8"
             ],
             [
              0.3333333333333333,
              "#9c179e"
             ],
             [
              0.4444444444444444,
              "#bd3786"
             ],
             [
              0.5555555555555556,
              "#d8576b"
             ],
             [
              0.6666666666666666,
              "#ed7953"
             ],
             [
              0.7777777777777778,
              "#fb9f3a"
             ],
             [
              0.8888888888888888,
              "#fdca26"
             ],
             [
              1,
              "#f0f921"
             ]
            ],
            "type": "contour"
           }
          ],
          "contourcarpet": [
           {
            "colorbar": {
             "outlinewidth": 0,
             "ticks": ""
            },
            "type": "contourcarpet"
           }
          ],
          "heatmap": [
           {
            "colorbar": {
             "outlinewidth": 0,
             "ticks": ""
            },
            "colorscale": [
             [
              0,
              "#0d0887"
             ],
             [
              0.1111111111111111,
              "#46039f"
             ],
             [
              0.2222222222222222,
              "#7201a8"
             ],
             [
              0.3333333333333333,
              "#9c179e"
             ],
             [
              0.4444444444444444,
              "#bd3786"
             ],
             [
              0.5555555555555556,
              "#d8576b"
             ],
             [
              0.6666666666666666,
              "#ed7953"
             ],
             [
              0.7777777777777778,
              "#fb9f3a"
             ],
             [
              0.8888888888888888,
              "#fdca26"
             ],
             [
              1,
              "#f0f921"
             ]
            ],
            "type": "heatmap"
           }
          ],
          "heatmapgl": [
           {
            "colorbar": {
             "outlinewidth": 0,
             "ticks": ""
            },
            "colorscale": [
             [
              0,
              "#0d0887"
             ],
             [
              0.1111111111111111,
              "#46039f"
             ],
             [
              0.2222222222222222,
              "#7201a8"
             ],
             [
              0.3333333333333333,
              "#9c179e"
             ],
             [
              0.4444444444444444,
              "#bd3786"
             ],
             [
              0.5555555555555556,
              "#d8576b"
             ],
             [
              0.6666666666666666,
              "#ed7953"
             ],
             [
              0.7777777777777778,
              "#fb9f3a"
             ],
             [
              0.8888888888888888,
              "#fdca26"
             ],
             [
              1,
              "#f0f921"
             ]
            ],
            "type": "heatmapgl"
           }
          ],
          "histogram": [
           {
            "marker": {
             "colorbar": {
              "outlinewidth": 0,
              "ticks": ""
             }
            },
            "type": "histogram"
           }
          ],
          "histogram2d": [
           {
            "colorbar": {
             "outlinewidth": 0,
             "ticks": ""
            },
            "colorscale": [
             [
              0,
              "#0d0887"
             ],
             [
              0.1111111111111111,
              "#46039f"
             ],
             [
              0.2222222222222222,
              "#7201a8"
             ],
             [
              0.3333333333333333,
              "#9c179e"
             ],
             [
              0.4444444444444444,
              "#bd3786"
             ],
             [
              0.5555555555555556,
              "#d8576b"
             ],
             [
              0.6666666666666666,
              "#ed7953"
             ],
             [
              0.7777777777777778,
              "#fb9f3a"
             ],
             [
              0.8888888888888888,
              "#fdca26"
             ],
             [
              1,
              "#f0f921"
             ]
            ],
            "type": "histogram2d"
           }
          ],
          "histogram2dcontour": [
           {
            "colorbar": {
             "outlinewidth": 0,
             "ticks": ""
            },
            "colorscale": [
             [
              0,
              "#0d0887"
             ],
             [
              0.1111111111111111,
              "#46039f"
             ],
             [
              0.2222222222222222,
              "#7201a8"
             ],
             [
              0.3333333333333333,
              "#9c179e"
             ],
             [
              0.4444444444444444,
              "#bd3786"
             ],
             [
              0.5555555555555556,
              "#d8576b"
             ],
             [
              0.6666666666666666,
              "#ed7953"
             ],
             [
              0.7777777777777778,
              "#fb9f3a"
             ],
             [
              0.8888888888888888,
              "#fdca26"
             ],
             [
              1,
              "#f0f921"
             ]
            ],
            "type": "histogram2dcontour"
           }
          ],
          "mesh3d": [
           {
            "colorbar": {
             "outlinewidth": 0,
             "ticks": ""
            },
            "type": "mesh3d"
           }
          ],
          "parcoords": [
           {
            "line": {
             "colorbar": {
              "outlinewidth": 0,
              "ticks": ""
             }
            },
            "type": "parcoords"
           }
          ],
          "pie": [
           {
            "automargin": true,
            "type": "pie"
           }
          ],
          "scatter": [
           {
            "marker": {
             "colorbar": {
              "outlinewidth": 0,
              "ticks": ""
             }
            },
            "type": "scatter"
           }
          ],
          "scatter3d": [
           {
            "line": {
             "colorbar": {
              "outlinewidth": 0,
              "ticks": ""
             }
            },
            "marker": {
             "colorbar": {
              "outlinewidth": 0,
              "ticks": ""
             }
            },
            "type": "scatter3d"
           }
          ],
          "scattercarpet": [
           {
            "marker": {
             "colorbar": {
              "outlinewidth": 0,
              "ticks": ""
             }
            },
            "type": "scattercarpet"
           }
          ],
          "scattergeo": [
           {
            "marker": {
             "colorbar": {
              "outlinewidth": 0,
              "ticks": ""
             }
            },
            "type": "scattergeo"
           }
          ],
          "scattergl": [
           {
            "marker": {
             "colorbar": {
              "outlinewidth": 0,
              "ticks": ""
             }
            },
            "type": "scattergl"
           }
          ],
          "scattermapbox": [
           {
            "marker": {
             "colorbar": {
              "outlinewidth": 0,
              "ticks": ""
             }
            },
            "type": "scattermapbox"
           }
          ],
          "scatterpolar": [
           {
            "marker": {
             "colorbar": {
              "outlinewidth": 0,
              "ticks": ""
             }
            },
            "type": "scatterpolar"
           }
          ],
          "scatterpolargl": [
           {
            "marker": {
             "colorbar": {
              "outlinewidth": 0,
              "ticks": ""
             }
            },
            "type": "scatterpolargl"
           }
          ],
          "scatterternary": [
           {
            "marker": {
             "colorbar": {
              "outlinewidth": 0,
              "ticks": ""
             }
            },
            "type": "scatterternary"
           }
          ],
          "surface": [
           {
            "colorbar": {
             "outlinewidth": 0,
             "ticks": ""
            },
            "colorscale": [
             [
              0,
              "#0d0887"
             ],
             [
              0.1111111111111111,
              "#46039f"
             ],
             [
              0.2222222222222222,
              "#7201a8"
             ],
             [
              0.3333333333333333,
              "#9c179e"
             ],
             [
              0.4444444444444444,
              "#bd3786"
             ],
             [
              0.5555555555555556,
              "#d8576b"
             ],
             [
              0.6666666666666666,
              "#ed7953"
             ],
             [
              0.7777777777777778,
              "#fb9f3a"
             ],
             [
              0.8888888888888888,
              "#fdca26"
             ],
             [
              1,
              "#f0f921"
             ]
            ],
            "type": "surface"
           }
          ],
          "table": [
           {
            "cells": {
             "fill": {
              "color": "#EBF0F8"
             },
             "line": {
              "color": "white"
             }
            },
            "header": {
             "fill": {
              "color": "#C8D4E3"
             },
             "line": {
              "color": "white"
             }
            },
            "type": "table"
           }
          ]
         },
         "layout": {
          "annotationdefaults": {
           "arrowcolor": "#2a3f5f",
           "arrowhead": 0,
           "arrowwidth": 1
          },
          "coloraxis": {
           "colorbar": {
            "outlinewidth": 0,
            "ticks": ""
           }
          },
          "colorscale": {
           "diverging": [
            [
             0,
             "#8e0152"
            ],
            [
             0.1,
             "#c51b7d"
            ],
            [
             0.2,
             "#de77ae"
            ],
            [
             0.3,
             "#f1b6da"
            ],
            [
             0.4,
             "#fde0ef"
            ],
            [
             0.5,
             "#f7f7f7"
            ],
            [
             0.6,
             "#e6f5d0"
            ],
            [
             0.7,
             "#b8e186"
            ],
            [
             0.8,
             "#7fbc41"
            ],
            [
             0.9,
             "#4d9221"
            ],
            [
             1,
             "#276419"
            ]
           ],
           "sequential": [
            [
             0,
             "#0d0887"
            ],
            [
             0.1111111111111111,
             "#46039f"
            ],
            [
             0.2222222222222222,
             "#7201a8"
            ],
            [
             0.3333333333333333,
             "#9c179e"
            ],
            [
             0.4444444444444444,
             "#bd3786"
            ],
            [
             0.5555555555555556,
             "#d8576b"
            ],
            [
             0.6666666666666666,
             "#ed7953"
            ],
            [
             0.7777777777777778,
             "#fb9f3a"
            ],
            [
             0.8888888888888888,
             "#fdca26"
            ],
            [
             1,
             "#f0f921"
            ]
           ],
           "sequentialminus": [
            [
             0,
             "#0d0887"
            ],
            [
             0.1111111111111111,
             "#46039f"
            ],
            [
             0.2222222222222222,
             "#7201a8"
            ],
            [
             0.3333333333333333,
             "#9c179e"
            ],
            [
             0.4444444444444444,
             "#bd3786"
            ],
            [
             0.5555555555555556,
             "#d8576b"
            ],
            [
             0.6666666666666666,
             "#ed7953"
            ],
            [
             0.7777777777777778,
             "#fb9f3a"
            ],
            [
             0.8888888888888888,
             "#fdca26"
            ],
            [
             1,
             "#f0f921"
            ]
           ]
          },
          "colorway": [
           "#636efa",
           "#EF553B",
           "#00cc96",
           "#ab63fa",
           "#FFA15A",
           "#19d3f3",
           "#FF6692",
           "#B6E880",
           "#FF97FF",
           "#FECB52"
          ],
          "font": {
           "color": "#2a3f5f"
          },
          "geo": {
           "bgcolor": "white",
           "lakecolor": "white",
           "landcolor": "#E5ECF6",
           "showlakes": true,
           "showland": true,
           "subunitcolor": "white"
          },
          "hoverlabel": {
           "align": "left"
          },
          "hovermode": "closest",
          "mapbox": {
           "style": "light"
          },
          "paper_bgcolor": "white",
          "plot_bgcolor": "#E5ECF6",
          "polar": {
           "angularaxis": {
            "gridcolor": "white",
            "linecolor": "white",
            "ticks": ""
           },
           "bgcolor": "#E5ECF6",
           "radialaxis": {
            "gridcolor": "white",
            "linecolor": "white",
            "ticks": ""
           }
          },
          "scene": {
           "xaxis": {
            "backgroundcolor": "#E5ECF6",
            "gridcolor": "white",
            "gridwidth": 2,
            "linecolor": "white",
            "showbackground": true,
            "ticks": "",
            "zerolinecolor": "white"
           },
           "yaxis": {
            "backgroundcolor": "#E5ECF6",
            "gridcolor": "white",
            "gridwidth": 2,
            "linecolor": "white",
            "showbackground": true,
            "ticks": "",
            "zerolinecolor": "white"
           },
           "zaxis": {
            "backgroundcolor": "#E5ECF6",
            "gridcolor": "white",
            "gridwidth": 2,
            "linecolor": "white",
            "showbackground": true,
            "ticks": "",
            "zerolinecolor": "white"
           }
          },
          "shapedefaults": {
           "line": {
            "color": "#2a3f5f"
           }
          },
          "ternary": {
           "aaxis": {
            "gridcolor": "white",
            "linecolor": "white",
            "ticks": ""
           },
           "baxis": {
            "gridcolor": "white",
            "linecolor": "white",
            "ticks": ""
           },
           "bgcolor": "#E5ECF6",
           "caxis": {
            "gridcolor": "white",
            "linecolor": "white",
            "ticks": ""
           }
          },
          "title": {
           "x": 0.05
          },
          "xaxis": {
           "automargin": true,
           "gridcolor": "white",
           "linecolor": "white",
           "ticks": "",
           "title": {
            "standoff": 15
           },
           "zerolinecolor": "white",
           "zerolinewidth": 2
          },
          "yaxis": {
           "automargin": true,
           "gridcolor": "white",
           "linecolor": "white",
           "ticks": "",
           "title": {
            "standoff": 15
           },
           "zerolinecolor": "white",
           "zerolinewidth": 2
          }
         }
        },
        "title": {
         "font": {
          "color": "#4D5663"
         }
        },
        "xaxis": {
         "gridcolor": "#E1E5ED",
         "showgrid": true,
         "tickfont": {
          "color": "#4D5663"
         },
         "title": {
          "font": {
           "color": "#4D5663"
          },
          "text": ""
         },
         "zerolinecolor": "#E1E5ED"
        },
        "yaxis": {
         "gridcolor": "#E1E5ED",
         "showgrid": true,
         "tickfont": {
          "color": "#4D5663"
         },
         "title": {
          "font": {
           "color": "#4D5663"
          },
          "text": ""
         },
         "zerolinecolor": "#E1E5ED"
        }
       }
      },
      "text/html": [
       "<div>                            <div id=\"5d702c60-5c60-4079-a3d8-0d1a6b5fbed7\" class=\"plotly-graph-div\" style=\"height:525px; width:100%;\"></div>            <script type=\"text/javascript\">                require([\"plotly\"], function(Plotly) {                    window.PLOTLYENV=window.PLOTLYENV || {};\n",
       "                    window.PLOTLYENV.BASE_URL='https://plot.ly';                                    if (document.getElementById(\"5d702c60-5c60-4079-a3d8-0d1a6b5fbed7\")) {                    Plotly.newPlot(                        \"5d702c60-5c60-4079-a3d8-0d1a6b5fbed7\",                        [{\"colorscale\": [[0.0, \"rgb(255, 153, 51)\"], [0.1111111111111111, \"rgb(55, 128, 191)\"], [0.2222222222222222, \"rgb(50, 171, 96)\"], [0.3333333333333333, \"rgb(128, 0, 128)\"], [0.4444444444444444, \"rgb(219, 64, 82)\"], [0.5555555555555556, \"rgb(0, 128, 128)\"], [0.6666666666666666, \"rgb(255, 255, 51)\"], [0.7777777777777778, \"rgb(128, 128, 0)\"], [0.8888888888888888, \"rgb(251, 128, 114)\"], [1.0, \"rgb(128, 177, 211)\"]], \"type\": \"surface\", \"x\": [0, 1, 2, 3, 4, 5, 6, 7, 8, 9, 10, 11, 12, 13, 14, 15, 16, 17, 18, 19, 20, 21, 22, 23, 24, 25, 26, 27, 28, 29, 30, 31, 32, 33, 34, 35, 36, 37, 38, 39, 40, 41, 42, 43, 44, 45, 46, 47, 48, 49, 50, 51, 52, 53, 54, 55, 56, 57, 58, 59, 60, 61, 62, 63, 64, 65, 66, 67, 68, 69, 70, 71, 72, 73, 74, 75, 76, 77, 78, 79, 80, 81, 82, 83, 84, 85, 86, 87, 88, 89, 90, 91, 92, 93, 94, 95, 96, 97, 98, 99], \"y\": [\"A\", \"B\", \"C\", \"D\", \"E\"], \"z\": [[0.5161356738434313, 0.0636107172821545, 0.06692468327697487, 0.9936523799556392, 0.6566634561023436, 0.42178757090817, 0.8086668424476373, 0.46696917334465715, 0.5129833029626683, 0.7965445970407374, 0.4753749507544248, 0.5269736078845279, 0.5261516285530587, 0.2519265446908109, 0.4409403818728914, 0.6436230214509598, 0.4309093924813908, 0.36422533023935955, 0.37066206102894694, 0.421097496189345, 0.28259186083790744, 0.9860137044665604, 0.6570764348350261, 0.5166094344991606, 0.6490393566705923, 0.32147053343054677, 0.8102657376578001, 0.11050398446241882, 0.09627265273347896, 0.08700454560238846, 0.2258316558306792, 0.31348122143129686, 0.47630388580856076, 0.2416633552291907, 0.48321421471361015, 0.7171602823913971, 0.7592514927105863, 0.4348145067399688, 0.6519254878064837, 0.23562240464892648, 0.8389761449853061, 0.4357828113180149, 0.8904555215195848, 0.49243300170191573, 0.8125110982330637, 0.6714552805304276, 0.6510067444371548, 0.5224405141670765, 0.857616039374965, 0.2437485124094424, 0.2113978782820376, 0.8406689495585936, 0.1165529358447096, 0.5641530680696066, 0.010510175356872153, 0.7577676348585756, 0.20644660956327343, 0.5700530742980291, 0.7642106969260165, 0.19353335786692716, 0.5284422576689375, 0.3498861904340155, 0.2630774011604906, 0.1449589465426755, 0.39568914806906685, 0.8557987067043253, 0.47129635663487623, 0.3637625307528811, 0.07046086278636066, 0.36667011649451775, 0.9727843650178455, 0.3139598540426143, 0.622712814828662, 0.32947199664912585, 0.17377303327816296, 0.7546133445087303, 0.5663910992263943, 0.3451425503884008, 0.9783478970261547, 0.14840065449695494, 0.8330401629681037, 0.43072035332893666, 0.3562461079945607, 0.37194417031475535, 0.3335999569792627, 0.8610725848155363, 0.6125310343312728, 0.7186038061722813, 0.3953632872574543, 0.8166573564125706, 0.9947489097716217, 0.8158534215005634, 0.16639429322302368, 0.36876198445450137, 0.9127319952710993, 0.6373487118009706, 0.606332930143361, 0.9472345915619095, 0.17739635382255026, 0.6191072827347411], [0.1626630672686057, 0.1306959975074532, 0.1175181958536533, 0.7318519873454005, 0.3663728136314005, 0.4330131365004678, 0.10459868937732109, 0.17312021455354665, 0.7424581685221942, 0.4024914311648409, 0.4225386494007666, 0.9652479008886558, 0.1568640422480947, 0.1906932468310829, 0.4049553890224278, 0.1413534741045852, 0.7974769973635923, 0.5122880874743644, 0.7114364673859719, 0.6545414468956188, 0.003122663919889135, 0.574600020728585, 0.7257651956732694, 0.7860220269480087, 0.21705297012680558, 0.9882332588912093, 0.9280064780725784, 0.6371133177573292, 0.04056129947369258, 0.6566599409325782, 0.8611208629693048, 0.36042953255577626, 0.5570817877393824, 0.2431539210116398, 0.6223154456584389, 0.2727771215522843, 0.017564377190018243, 0.31909216846520805, 0.6923659421446094, 0.10781850344782229, 0.8426556752018141, 0.9889373235577419, 0.937828210395217, 0.9350352143959405, 0.829659629669946, 0.08847303350834923, 0.029828992504081442, 0.3387657758370929, 0.9959974596442112, 0.7675826294458717, 0.7420781099927796, 0.07553833822301625, 0.6261963846749959, 0.8499305085370708, 0.7430855857833908, 0.36385177713259464, 0.41878558782732933, 0.3077163680342472, 0.5086034568703152, 0.6495659676753597, 0.00826646055866087, 0.46133365644754143, 0.27686869960471616, 0.6110601197940002, 0.038276755879606106, 0.2921025844385856, 0.6936208471230186, 0.5632551845691949, 0.8838474164907488, 0.8619228809730394, 0.9933604137411662, 0.8731120425525435, 0.5720098481954932, 0.6484133227777604, 0.6047599394748302, 0.02142848878002679, 0.8961829974905834, 0.9537808507772697, 0.43196177064806407, 0.28596891670155833, 0.10605589694331807, 0.6055348215466095, 0.8299801076294994, 0.7568901031005312, 0.8939997142000559, 0.5553683864435262, 0.9929167606905548, 0.407260746409564, 0.8942918944719414, 0.7380856686981769, 0.9232918970127303, 0.40923550283324894, 0.773030239468322, 0.4401445430618408, 0.09820572290825758, 0.8597842303967289, 0.6710014763815393, 0.9677884556177091, 0.11852203499704717, 0.6043251510020315], [0.8667086423871267, 0.42169900671541927, 0.28449002613714824, 0.37756573170342356, 0.8780004261633513, 0.7323128659084952, 0.07384888968313152, 0.06825126844572293, 0.1938296444047739, 0.8403650878581878, 0.16777059669144456, 0.12499071609107082, 0.6072541966172804, 0.045984951811504415, 0.9180200408285674, 0.27482730036114067, 0.42405714626358904, 0.867396817393961, 0.0443826325234965, 0.6478885209013149, 0.8758122835386893, 0.24112335282360853, 0.5618157943836666, 0.22976523033005558, 0.5910737391678997, 0.23797124229670585, 0.30112686048417225, 0.2206671715937718, 0.11987652914926283, 0.45347792883274485, 0.7814871591185828, 0.1582193491740379, 0.6737270989731539, 0.4438393084423028, 0.389448541370894, 0.35324775514705653, 0.40556602787013685, 0.4478453382114136, 0.6847624951661764, 0.6589517975147366, 0.2150048668304817, 0.473486925169296, 0.004472488569293609, 0.34629913979382576, 0.7668999787132823, 0.05372564287789394, 0.6153890203424148, 0.8901395590092461, 0.4506657898662534, 0.3198490641023768, 0.013619987547263124, 0.7820842193812664, 0.8072231745083163, 0.19884018022188976, 0.9784578651712587, 0.8785914144558111, 0.6149682815726469, 0.792533353497172, 0.6527044187741047, 0.6155775886575672, 0.3517426024734337, 0.8936776246203746, 0.5068918533232788, 0.016508366577833722, 0.5599712603638586, 0.8921874258566521, 0.9941821930515896, 0.717689010840149, 0.48425334910931295, 0.5263636071523451, 0.7515667503342033, 0.6703631760819342, 0.8794882483967172, 0.18612200458205386, 0.31894640794323625, 0.2587473576621159, 0.6079198661877776, 0.9881132674992965, 0.5586593858650656, 0.840572075988018, 0.08455001381331084, 0.8795677516054241, 0.03434577976706654, 0.50411462764669, 0.4637612672369107, 0.6296468100694633, 0.5467755452798754, 0.7125302128325665, 0.8604526410231832, 0.541504299125747, 0.7878231875574138, 0.3366382203204067, 0.591735515120237, 0.554604993090406, 0.2783679649417863, 0.9450092879849966, 0.15782038677589583, 0.1893895303827846, 0.8792874805737942, 0.615991651642136], [0.17792852362475275, 0.6600002421259734, 0.4105417560424345, 0.7178723714117493, 0.8888670846248188, 0.33401655393770546, 0.9401472865444825, 0.6174954171397649, 0.5278331015278095, 0.2410810050436536, 0.7307747937095651, 0.8309201476509097, 0.8707510643442428, 0.6361182685735102, 0.237074378568911, 0.38261224025066276, 0.13409722739171537, 0.9680458492512756, 0.48499758638656687, 0.8694203838186665, 0.48307132207906156, 0.5475503398532455, 0.8358434905955878, 0.009818413633657763, 0.23709299284640806, 0.5996938666077932, 0.41246894768273734, 0.7234805457067647, 0.4280724787789234, 0.3305118715357317, 0.09892013233412544, 0.694119252741951, 0.07274221673306758, 0.7327686957624108, 0.21447118031321988, 0.32513649276919, 0.14566574385531494, 0.19608070274851008, 0.49675633412816256, 0.33032792140752176, 0.40734638506395726, 0.0898864032665202, 0.7503163095787414, 0.49341261884704835, 0.09660440822672045, 0.838257384343858, 0.30074334831741834, 0.4621787946007475, 0.79072674164987, 0.30448464982912415, 0.6143295694743526, 0.9237729632573771, 0.9488716556150311, 0.49946484049240214, 0.312255929554206, 0.6390200239593766, 0.2012059749567613, 0.8182395594160895, 0.44904752387736824, 0.3433132340938905, 0.5032500118887525, 0.994850783788061, 0.052995179178338625, 0.8163596439192412, 0.7138148614163943, 0.15937527631370396, 0.9823587338009072, 0.04547221045099692, 0.3565508211390357, 0.11665061671955401, 0.6555023423864546, 0.25465198439451164, 0.34711586434812125, 0.5607549578459152, 0.31637198070463945, 0.3086806814178312, 0.5225292563099774, 0.264731341056884, 0.42210349383235846, 0.3594050635082323, 0.4411094626057912, 0.714997338998335, 0.15844572560218995, 0.4843974714207899, 0.011243066255371748, 0.10615073872882219, 0.9942606440964181, 0.5403802591519169, 0.2497787051623912, 0.7563217431938193, 0.7041669922155152, 0.3090247449890441, 0.837900608461323, 0.20687907955437812, 0.054823138265147286, 0.0750696732427848, 0.8805067042742604, 0.8494277228270641, 0.8016802415522692, 0.9188813553248287], [0.7408809314876459, 0.07087308701861172, 0.2952223971066237, 0.08316867079538548, 0.31250603457595794, 0.8552747522930202, 0.5958243333070937, 0.33402171633968336, 0.6351504361158696, 0.34705855527923246, 0.4624793727901335, 0.10083360013926101, 0.8294994834350653, 0.9570914248245771, 0.8177673957108528, 0.3865053792121206, 0.01672868210929801, 0.22296905035924874, 0.8964627356562357, 0.7840063494458447, 0.5883992834627351, 0.3659521727946169, 0.02239702763762086, 0.8237375070468044, 0.933241119375905, 0.9451185352421476, 0.7807690859354781, 0.9325514268918567, 0.11756475363431229, 0.9336758310092251, 0.23439616539705976, 0.2037595437077937, 0.89436257591579, 0.8142023964612394, 0.819074068891952, 0.0722639706447491, 0.33230831126575044, 0.606204779501313, 0.4319046979948402, 0.006067300431740308, 0.03978273824407219, 0.027966541431041936, 0.5554193906797822, 0.012753027358030078, 0.6379540824100064, 0.25252015048544674, 0.9458194390279805, 0.3713416102168847, 0.8968572340186026, 0.4449232973477151, 0.5777419100373141, 0.3647855391458109, 0.8954363168798852, 0.22586318011978568, 0.011464105599779506, 0.6564903293352492, 0.4725003429467852, 0.765207402697249, 0.9762678831837628, 0.9098553518932753, 0.08319972378609708, 0.5583297731947869, 0.31080126552444, 0.5328260750118508, 0.4708419511434082, 0.15311600494165667, 0.8960701039018686, 0.714981135631073, 0.31529306552343783, 0.5492768430380829, 0.2619160976503626, 0.49469360764503956, 0.18427776632507276, 0.22146725637790632, 0.9704953901781687, 0.24016833133850324, 0.33146615780787314, 0.18632265489384436, 0.4703415031974313, 0.7664316069750894, 0.8033282745911152, 0.7576344491998316, 0.9563459911274541, 0.7481289878365114, 0.3753706247838102, 0.30473001036291625, 0.7097374240625239, 0.24568340150559997, 0.35648134431596334, 0.2969840624994986, 0.3230861986461814, 0.07267971578917465, 0.43521305201322047, 0.4514145774522087, 0.9828550032606159, 0.7091954497041283, 0.8912245075676247, 0.38304044585742947, 0.8862345503260743, 0.21864771568821406]]}],                        {\"legend\": {\"bgcolor\": \"#F5F6F9\", \"font\": {\"color\": \"#4D5663\"}}, \"paper_bgcolor\": \"#F5F6F9\", \"plot_bgcolor\": \"#F5F6F9\", \"template\": {\"data\": {\"bar\": [{\"error_x\": {\"color\": \"#2a3f5f\"}, \"error_y\": {\"color\": \"#2a3f5f\"}, \"marker\": {\"line\": {\"color\": \"#E5ECF6\", \"width\": 0.5}}, \"type\": \"bar\"}], \"barpolar\": [{\"marker\": {\"line\": {\"color\": \"#E5ECF6\", \"width\": 0.5}}, \"type\": \"barpolar\"}], \"carpet\": [{\"aaxis\": {\"endlinecolor\": \"#2a3f5f\", \"gridcolor\": \"white\", \"linecolor\": \"white\", \"minorgridcolor\": \"white\", \"startlinecolor\": \"#2a3f5f\"}, \"baxis\": {\"endlinecolor\": \"#2a3f5f\", \"gridcolor\": \"white\", \"linecolor\": \"white\", \"minorgridcolor\": \"white\", \"startlinecolor\": \"#2a3f5f\"}, \"type\": \"carpet\"}], \"choropleth\": [{\"colorbar\": {\"outlinewidth\": 0, \"ticks\": \"\"}, \"type\": \"choropleth\"}], \"contour\": [{\"colorbar\": {\"outlinewidth\": 0, \"ticks\": \"\"}, \"colorscale\": [[0.0, \"#0d0887\"], [0.1111111111111111, \"#46039f\"], [0.2222222222222222, \"#7201a8\"], [0.3333333333333333, \"#9c179e\"], [0.4444444444444444, \"#bd3786\"], [0.5555555555555556, \"#d8576b\"], [0.6666666666666666, \"#ed7953\"], [0.7777777777777778, \"#fb9f3a\"], [0.8888888888888888, \"#fdca26\"], [1.0, \"#f0f921\"]], \"type\": \"contour\"}], \"contourcarpet\": [{\"colorbar\": {\"outlinewidth\": 0, \"ticks\": \"\"}, \"type\": \"contourcarpet\"}], \"heatmap\": [{\"colorbar\": {\"outlinewidth\": 0, \"ticks\": \"\"}, \"colorscale\": [[0.0, \"#0d0887\"], [0.1111111111111111, \"#46039f\"], [0.2222222222222222, \"#7201a8\"], [0.3333333333333333, \"#9c179e\"], [0.4444444444444444, \"#bd3786\"], [0.5555555555555556, \"#d8576b\"], [0.6666666666666666, \"#ed7953\"], [0.7777777777777778, \"#fb9f3a\"], [0.8888888888888888, \"#fdca26\"], [1.0, \"#f0f921\"]], \"type\": \"heatmap\"}], \"heatmapgl\": [{\"colorbar\": {\"outlinewidth\": 0, \"ticks\": \"\"}, \"colorscale\": [[0.0, \"#0d0887\"], [0.1111111111111111, \"#46039f\"], [0.2222222222222222, \"#7201a8\"], [0.3333333333333333, \"#9c179e\"], [0.4444444444444444, \"#bd3786\"], [0.5555555555555556, \"#d8576b\"], [0.6666666666666666, \"#ed7953\"], [0.7777777777777778, \"#fb9f3a\"], [0.8888888888888888, \"#fdca26\"], [1.0, \"#f0f921\"]], \"type\": \"heatmapgl\"}], \"histogram\": [{\"marker\": {\"colorbar\": {\"outlinewidth\": 0, \"ticks\": \"\"}}, \"type\": \"histogram\"}], \"histogram2d\": [{\"colorbar\": {\"outlinewidth\": 0, \"ticks\": \"\"}, \"colorscale\": [[0.0, \"#0d0887\"], [0.1111111111111111, \"#46039f\"], [0.2222222222222222, \"#7201a8\"], [0.3333333333333333, \"#9c179e\"], [0.4444444444444444, \"#bd3786\"], [0.5555555555555556, \"#d8576b\"], [0.6666666666666666, \"#ed7953\"], [0.7777777777777778, \"#fb9f3a\"], [0.8888888888888888, \"#fdca26\"], [1.0, \"#f0f921\"]], \"type\": \"histogram2d\"}], \"histogram2dcontour\": [{\"colorbar\": {\"outlinewidth\": 0, \"ticks\": \"\"}, \"colorscale\": [[0.0, \"#0d0887\"], [0.1111111111111111, \"#46039f\"], [0.2222222222222222, \"#7201a8\"], [0.3333333333333333, \"#9c179e\"], [0.4444444444444444, \"#bd3786\"], [0.5555555555555556, \"#d8576b\"], [0.6666666666666666, \"#ed7953\"], [0.7777777777777778, \"#fb9f3a\"], [0.8888888888888888, \"#fdca26\"], [1.0, \"#f0f921\"]], \"type\": \"histogram2dcontour\"}], \"mesh3d\": [{\"colorbar\": {\"outlinewidth\": 0, \"ticks\": \"\"}, \"type\": \"mesh3d\"}], \"parcoords\": [{\"line\": {\"colorbar\": {\"outlinewidth\": 0, \"ticks\": \"\"}}, \"type\": \"parcoords\"}], \"pie\": [{\"automargin\": true, \"type\": \"pie\"}], \"scatter\": [{\"marker\": {\"colorbar\": {\"outlinewidth\": 0, \"ticks\": \"\"}}, \"type\": \"scatter\"}], \"scatter3d\": [{\"line\": {\"colorbar\": {\"outlinewidth\": 0, \"ticks\": \"\"}}, \"marker\": {\"colorbar\": {\"outlinewidth\": 0, \"ticks\": \"\"}}, \"type\": \"scatter3d\"}], \"scattercarpet\": [{\"marker\": {\"colorbar\": {\"outlinewidth\": 0, \"ticks\": \"\"}}, \"type\": \"scattercarpet\"}], \"scattergeo\": [{\"marker\": {\"colorbar\": {\"outlinewidth\": 0, \"ticks\": \"\"}}, \"type\": \"scattergeo\"}], \"scattergl\": [{\"marker\": {\"colorbar\": {\"outlinewidth\": 0, \"ticks\": \"\"}}, \"type\": \"scattergl\"}], \"scattermapbox\": [{\"marker\": {\"colorbar\": {\"outlinewidth\": 0, \"ticks\": \"\"}}, \"type\": \"scattermapbox\"}], \"scatterpolar\": [{\"marker\": {\"colorbar\": {\"outlinewidth\": 0, \"ticks\": \"\"}}, \"type\": \"scatterpolar\"}], \"scatterpolargl\": [{\"marker\": {\"colorbar\": {\"outlinewidth\": 0, \"ticks\": \"\"}}, \"type\": \"scatterpolargl\"}], \"scatterternary\": [{\"marker\": {\"colorbar\": {\"outlinewidth\": 0, \"ticks\": \"\"}}, \"type\": \"scatterternary\"}], \"surface\": [{\"colorbar\": {\"outlinewidth\": 0, \"ticks\": \"\"}, \"colorscale\": [[0.0, \"#0d0887\"], [0.1111111111111111, \"#46039f\"], [0.2222222222222222, \"#7201a8\"], [0.3333333333333333, \"#9c179e\"], [0.4444444444444444, \"#bd3786\"], [0.5555555555555556, \"#d8576b\"], [0.6666666666666666, \"#ed7953\"], [0.7777777777777778, \"#fb9f3a\"], [0.8888888888888888, \"#fdca26\"], [1.0, \"#f0f921\"]], \"type\": \"surface\"}], \"table\": [{\"cells\": {\"fill\": {\"color\": \"#EBF0F8\"}, \"line\": {\"color\": \"white\"}}, \"header\": {\"fill\": {\"color\": \"#C8D4E3\"}, \"line\": {\"color\": \"white\"}}, \"type\": \"table\"}]}, \"layout\": {\"annotationdefaults\": {\"arrowcolor\": \"#2a3f5f\", \"arrowhead\": 0, \"arrowwidth\": 1}, \"coloraxis\": {\"colorbar\": {\"outlinewidth\": 0, \"ticks\": \"\"}}, \"colorscale\": {\"diverging\": [[0, \"#8e0152\"], [0.1, \"#c51b7d\"], [0.2, \"#de77ae\"], [0.3, \"#f1b6da\"], [0.4, \"#fde0ef\"], [0.5, \"#f7f7f7\"], [0.6, \"#e6f5d0\"], [0.7, \"#b8e186\"], [0.8, \"#7fbc41\"], [0.9, \"#4d9221\"], [1, \"#276419\"]], \"sequential\": [[0.0, \"#0d0887\"], [0.1111111111111111, \"#46039f\"], [0.2222222222222222, \"#7201a8\"], [0.3333333333333333, \"#9c179e\"], [0.4444444444444444, \"#bd3786\"], [0.5555555555555556, \"#d8576b\"], [0.6666666666666666, \"#ed7953\"], [0.7777777777777778, \"#fb9f3a\"], [0.8888888888888888, \"#fdca26\"], [1.0, \"#f0f921\"]], \"sequentialminus\": [[0.0, \"#0d0887\"], [0.1111111111111111, \"#46039f\"], [0.2222222222222222, \"#7201a8\"], [0.3333333333333333, \"#9c179e\"], [0.4444444444444444, \"#bd3786\"], [0.5555555555555556, \"#d8576b\"], [0.6666666666666666, \"#ed7953\"], [0.7777777777777778, \"#fb9f3a\"], [0.8888888888888888, \"#fdca26\"], [1.0, \"#f0f921\"]]}, \"colorway\": [\"#636efa\", \"#EF553B\", \"#00cc96\", \"#ab63fa\", \"#FFA15A\", \"#19d3f3\", \"#FF6692\", \"#B6E880\", \"#FF97FF\", \"#FECB52\"], \"font\": {\"color\": \"#2a3f5f\"}, \"geo\": {\"bgcolor\": \"white\", \"lakecolor\": \"white\", \"landcolor\": \"#E5ECF6\", \"showlakes\": true, \"showland\": true, \"subunitcolor\": \"white\"}, \"hoverlabel\": {\"align\": \"left\"}, \"hovermode\": \"closest\", \"mapbox\": {\"style\": \"light\"}, \"paper_bgcolor\": \"white\", \"plot_bgcolor\": \"#E5ECF6\", \"polar\": {\"angularaxis\": {\"gridcolor\": \"white\", \"linecolor\": \"white\", \"ticks\": \"\"}, \"bgcolor\": \"#E5ECF6\", \"radialaxis\": {\"gridcolor\": \"white\", \"linecolor\": \"white\", \"ticks\": \"\"}}, \"scene\": {\"xaxis\": {\"backgroundcolor\": \"#E5ECF6\", \"gridcolor\": \"white\", \"gridwidth\": 2, \"linecolor\": \"white\", \"showbackground\": true, \"ticks\": \"\", \"zerolinecolor\": \"white\"}, \"yaxis\": {\"backgroundcolor\": \"#E5ECF6\", \"gridcolor\": \"white\", \"gridwidth\": 2, \"linecolor\": \"white\", \"showbackground\": true, \"ticks\": \"\", \"zerolinecolor\": \"white\"}, \"zaxis\": {\"backgroundcolor\": \"#E5ECF6\", \"gridcolor\": \"white\", \"gridwidth\": 2, \"linecolor\": \"white\", \"showbackground\": true, \"ticks\": \"\", \"zerolinecolor\": \"white\"}}, \"shapedefaults\": {\"line\": {\"color\": \"#2a3f5f\"}}, \"ternary\": {\"aaxis\": {\"gridcolor\": \"white\", \"linecolor\": \"white\", \"ticks\": \"\"}, \"baxis\": {\"gridcolor\": \"white\", \"linecolor\": \"white\", \"ticks\": \"\"}, \"bgcolor\": \"#E5ECF6\", \"caxis\": {\"gridcolor\": \"white\", \"linecolor\": \"white\", \"ticks\": \"\"}}, \"title\": {\"x\": 0.05}, \"xaxis\": {\"automargin\": true, \"gridcolor\": \"white\", \"linecolor\": \"white\", \"ticks\": \"\", \"title\": {\"standoff\": 15}, \"zerolinecolor\": \"white\", \"zerolinewidth\": 2}, \"yaxis\": {\"automargin\": true, \"gridcolor\": \"white\", \"linecolor\": \"white\", \"ticks\": \"\", \"title\": {\"standoff\": 15}, \"zerolinecolor\": \"white\", \"zerolinewidth\": 2}}}, \"title\": {\"font\": {\"color\": \"#4D5663\"}}, \"xaxis\": {\"gridcolor\": \"#E1E5ED\", \"showgrid\": true, \"tickfont\": {\"color\": \"#4D5663\"}, \"title\": {\"font\": {\"color\": \"#4D5663\"}, \"text\": \"\"}, \"zerolinecolor\": \"#E1E5ED\"}, \"yaxis\": {\"gridcolor\": \"#E1E5ED\", \"showgrid\": true, \"tickfont\": {\"color\": \"#4D5663\"}, \"title\": {\"font\": {\"color\": \"#4D5663\"}, \"text\": \"\"}, \"zerolinecolor\": \"#E1E5ED\"}},                        {\"showLink\": true, \"linkText\": \"Export to plot.ly\", \"plotlyServerURL\": \"https://plot.ly\", \"responsive\": true}                    ).then(function(){\n",
       "                            \n",
       "var gd = document.getElementById('5d702c60-5c60-4079-a3d8-0d1a6b5fbed7');\n",
       "var x = new MutationObserver(function (mutations, observer) {{\n",
       "        var display = window.getComputedStyle(gd).display;\n",
       "        if (!display || display === 'none') {{\n",
       "            console.log([gd, 'removed!']);\n",
       "            Plotly.purge(gd);\n",
       "            observer.disconnect();\n",
       "        }}\n",
       "}});\n",
       "\n",
       "// Listen for the removal of the full notebook cells\n",
       "var notebookContainer = gd.closest('#notebook-container');\n",
       "if (notebookContainer) {{\n",
       "    x.observe(notebookContainer, {childList: true});\n",
       "}}\n",
       "\n",
       "// Listen for the clearing of the current output cell\n",
       "var outputEl = gd.closest('.output');\n",
       "if (outputEl) {{\n",
       "    x.observe(outputEl, {childList: true});\n",
       "}}\n",
       "\n",
       "                        })                };                });            </script>        </div>"
      ]
     },
     "metadata": {},
     "output_type": "display_data"
    }
   ],
   "source": [
    "main(cat)"
   ]
  },
  {
   "cell_type": "code",
   "execution_count": null,
   "metadata": {},
   "outputs": [],
   "source": []
  },
  {
   "cell_type": "code",
   "execution_count": null,
   "metadata": {},
   "outputs": [],
   "source": []
  },
  {
   "cell_type": "code",
   "execution_count": null,
   "metadata": {},
   "outputs": [],
   "source": []
  },
  {
   "cell_type": "code",
   "execution_count": null,
   "metadata": {},
   "outputs": [],
   "source": []
  },
  {
   "cell_type": "code",
   "execution_count": null,
   "metadata": {},
   "outputs": [],
   "source": []
  }
 ],
 "metadata": {
  "kernelspec": {
   "display_name": "Python 3",
   "language": "python",
   "name": "python3"
  },
  "language_info": {
   "codemirror_mode": {
    "name": "ipython",
    "version": 3
   },
   "file_extension": ".py",
   "mimetype": "text/x-python",
   "name": "python",
   "nbconvert_exporter": "python",
   "pygments_lexer": "ipython3",
   "version": "3.7.4"
  }
 },
 "nbformat": 4,
 "nbformat_minor": 2
}
